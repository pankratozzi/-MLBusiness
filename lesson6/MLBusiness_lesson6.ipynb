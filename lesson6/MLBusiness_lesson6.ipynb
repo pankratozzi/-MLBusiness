{
  "cells": [
    {
      "cell_type": "code",
      "execution_count": 286,
      "metadata": {
        "id": "CSOPgbX9pMqT"
      },
      "outputs": [],
      "source": [
        "!pip install -qq catboost optuna"
      ]
    },
    {
      "cell_type": "code",
      "source": [
        "!wget https://archive.ics.uci.edu/ml/machine-learning-databases/00468/online_shoppers_intention.csv"
      ],
      "metadata": {
        "colab": {
          "base_uri": "https://localhost:8080/"
        },
        "id": "1krFPwo-wggg",
        "outputId": "8730bda9-db55-40b8-f879-f110a80ec19e"
      },
      "execution_count": 287,
      "outputs": [
        {
          "output_type": "stream",
          "name": "stdout",
          "text": [
            "--2022-06-01 12:47:54--  https://archive.ics.uci.edu/ml/machine-learning-databases/00468/online_shoppers_intention.csv\n",
            "Resolving archive.ics.uci.edu (archive.ics.uci.edu)... 128.195.10.252\n",
            "Connecting to archive.ics.uci.edu (archive.ics.uci.edu)|128.195.10.252|:443... connected.\n",
            "HTTP request sent, awaiting response... 200 OK\n",
            "Length: 1072063 (1.0M) [application/x-httpd-php]\n",
            "Saving to: ‘online_shoppers_intention.csv.2’\n",
            "\n",
            "online_shoppers_int 100%[===================>]   1.02M  2.43MB/s    in 0.4s    \n",
            "\n",
            "2022-06-01 12:47:55 (2.43 MB/s) - ‘online_shoppers_intention.csv.2’ saved [1072063/1072063]\n",
            "\n"
          ]
        }
      ]
    },
    {
      "cell_type": "code",
      "source": [
        "import warnings\n",
        "warnings.filterwarnings('ignore')\n",
        "\n",
        "import numpy as np\n",
        "import pandas as pd\n",
        "import matplotlib.pyplot as plt\n",
        "import seaborn as sns\n",
        "\n",
        "from sklearn.model_selection import train_test_split\n",
        "from sklearn.metrics import classification_report, f1_score, roc_auc_score, precision_recall_curve\n",
        "from sklearn.metrics import precision_score, recall_score, accuracy_score\n",
        "\n",
        "from catboost import CatBoostClassifier, Pool, EFeaturesSelectionAlgorithm, EShapCalcType\n",
        "\n",
        "import optuna\n",
        "from optuna.samplers import TPESampler\n",
        "from imblearn.over_sampling import SMOTENC\n",
        "\n",
        "seed = 42\n",
        "np.random.seed(seed)"
      ],
      "metadata": {
        "id": "Q6PSEtp4p8cz"
      },
      "execution_count": 385,
      "outputs": []
    },
    {
      "cell_type": "code",
      "source": [
        "df = pd.read_csv('online_shoppers_intention.csv')"
      ],
      "metadata": {
        "id": "FacvGe3vqAxT"
      },
      "execution_count": 289,
      "outputs": []
    },
    {
      "cell_type": "code",
      "source": [
        "df.head()"
      ],
      "metadata": {
        "colab": {
          "base_uri": "https://localhost:8080/",
          "height": 270
        },
        "id": "WUi8MbcstRZR",
        "outputId": "1823cba1-bc48-4078-d43e-20be42ff2107"
      },
      "execution_count": 290,
      "outputs": [
        {
          "output_type": "execute_result",
          "data": {
            "text/plain": [
              "   Administrative  Administrative_Duration  Informational  \\\n",
              "0               0                      0.0              0   \n",
              "1               0                      0.0              0   \n",
              "2               0                      0.0              0   \n",
              "3               0                      0.0              0   \n",
              "4               0                      0.0              0   \n",
              "\n",
              "   Informational_Duration  ProductRelated  ProductRelated_Duration  \\\n",
              "0                     0.0               1                 0.000000   \n",
              "1                     0.0               2                64.000000   \n",
              "2                     0.0               1                 0.000000   \n",
              "3                     0.0               2                 2.666667   \n",
              "4                     0.0              10               627.500000   \n",
              "\n",
              "   BounceRates  ExitRates  PageValues  SpecialDay Month  OperatingSystems  \\\n",
              "0         0.20       0.20         0.0         0.0   Feb                 1   \n",
              "1         0.00       0.10         0.0         0.0   Feb                 2   \n",
              "2         0.20       0.20         0.0         0.0   Feb                 4   \n",
              "3         0.05       0.14         0.0         0.0   Feb                 3   \n",
              "4         0.02       0.05         0.0         0.0   Feb                 3   \n",
              "\n",
              "   Browser  Region  TrafficType        VisitorType  Weekend  Revenue  \n",
              "0        1       1            1  Returning_Visitor    False    False  \n",
              "1        2       1            2  Returning_Visitor    False    False  \n",
              "2        1       9            3  Returning_Visitor    False    False  \n",
              "3        2       2            4  Returning_Visitor    False    False  \n",
              "4        3       1            4  Returning_Visitor     True    False  "
            ],
            "text/html": [
              "\n",
              "  <div id=\"df-7f08ece2-6a00-4fce-941e-f924b80ce7b4\">\n",
              "    <div class=\"colab-df-container\">\n",
              "      <div>\n",
              "<style scoped>\n",
              "    .dataframe tbody tr th:only-of-type {\n",
              "        vertical-align: middle;\n",
              "    }\n",
              "\n",
              "    .dataframe tbody tr th {\n",
              "        vertical-align: top;\n",
              "    }\n",
              "\n",
              "    .dataframe thead th {\n",
              "        text-align: right;\n",
              "    }\n",
              "</style>\n",
              "<table border=\"1\" class=\"dataframe\">\n",
              "  <thead>\n",
              "    <tr style=\"text-align: right;\">\n",
              "      <th></th>\n",
              "      <th>Administrative</th>\n",
              "      <th>Administrative_Duration</th>\n",
              "      <th>Informational</th>\n",
              "      <th>Informational_Duration</th>\n",
              "      <th>ProductRelated</th>\n",
              "      <th>ProductRelated_Duration</th>\n",
              "      <th>BounceRates</th>\n",
              "      <th>ExitRates</th>\n",
              "      <th>PageValues</th>\n",
              "      <th>SpecialDay</th>\n",
              "      <th>Month</th>\n",
              "      <th>OperatingSystems</th>\n",
              "      <th>Browser</th>\n",
              "      <th>Region</th>\n",
              "      <th>TrafficType</th>\n",
              "      <th>VisitorType</th>\n",
              "      <th>Weekend</th>\n",
              "      <th>Revenue</th>\n",
              "    </tr>\n",
              "  </thead>\n",
              "  <tbody>\n",
              "    <tr>\n",
              "      <th>0</th>\n",
              "      <td>0</td>\n",
              "      <td>0.0</td>\n",
              "      <td>0</td>\n",
              "      <td>0.0</td>\n",
              "      <td>1</td>\n",
              "      <td>0.000000</td>\n",
              "      <td>0.20</td>\n",
              "      <td>0.20</td>\n",
              "      <td>0.0</td>\n",
              "      <td>0.0</td>\n",
              "      <td>Feb</td>\n",
              "      <td>1</td>\n",
              "      <td>1</td>\n",
              "      <td>1</td>\n",
              "      <td>1</td>\n",
              "      <td>Returning_Visitor</td>\n",
              "      <td>False</td>\n",
              "      <td>False</td>\n",
              "    </tr>\n",
              "    <tr>\n",
              "      <th>1</th>\n",
              "      <td>0</td>\n",
              "      <td>0.0</td>\n",
              "      <td>0</td>\n",
              "      <td>0.0</td>\n",
              "      <td>2</td>\n",
              "      <td>64.000000</td>\n",
              "      <td>0.00</td>\n",
              "      <td>0.10</td>\n",
              "      <td>0.0</td>\n",
              "      <td>0.0</td>\n",
              "      <td>Feb</td>\n",
              "      <td>2</td>\n",
              "      <td>2</td>\n",
              "      <td>1</td>\n",
              "      <td>2</td>\n",
              "      <td>Returning_Visitor</td>\n",
              "      <td>False</td>\n",
              "      <td>False</td>\n",
              "    </tr>\n",
              "    <tr>\n",
              "      <th>2</th>\n",
              "      <td>0</td>\n",
              "      <td>0.0</td>\n",
              "      <td>0</td>\n",
              "      <td>0.0</td>\n",
              "      <td>1</td>\n",
              "      <td>0.000000</td>\n",
              "      <td>0.20</td>\n",
              "      <td>0.20</td>\n",
              "      <td>0.0</td>\n",
              "      <td>0.0</td>\n",
              "      <td>Feb</td>\n",
              "      <td>4</td>\n",
              "      <td>1</td>\n",
              "      <td>9</td>\n",
              "      <td>3</td>\n",
              "      <td>Returning_Visitor</td>\n",
              "      <td>False</td>\n",
              "      <td>False</td>\n",
              "    </tr>\n",
              "    <tr>\n",
              "      <th>3</th>\n",
              "      <td>0</td>\n",
              "      <td>0.0</td>\n",
              "      <td>0</td>\n",
              "      <td>0.0</td>\n",
              "      <td>2</td>\n",
              "      <td>2.666667</td>\n",
              "      <td>0.05</td>\n",
              "      <td>0.14</td>\n",
              "      <td>0.0</td>\n",
              "      <td>0.0</td>\n",
              "      <td>Feb</td>\n",
              "      <td>3</td>\n",
              "      <td>2</td>\n",
              "      <td>2</td>\n",
              "      <td>4</td>\n",
              "      <td>Returning_Visitor</td>\n",
              "      <td>False</td>\n",
              "      <td>False</td>\n",
              "    </tr>\n",
              "    <tr>\n",
              "      <th>4</th>\n",
              "      <td>0</td>\n",
              "      <td>0.0</td>\n",
              "      <td>0</td>\n",
              "      <td>0.0</td>\n",
              "      <td>10</td>\n",
              "      <td>627.500000</td>\n",
              "      <td>0.02</td>\n",
              "      <td>0.05</td>\n",
              "      <td>0.0</td>\n",
              "      <td>0.0</td>\n",
              "      <td>Feb</td>\n",
              "      <td>3</td>\n",
              "      <td>3</td>\n",
              "      <td>1</td>\n",
              "      <td>4</td>\n",
              "      <td>Returning_Visitor</td>\n",
              "      <td>True</td>\n",
              "      <td>False</td>\n",
              "    </tr>\n",
              "  </tbody>\n",
              "</table>\n",
              "</div>\n",
              "      <button class=\"colab-df-convert\" onclick=\"convertToInteractive('df-7f08ece2-6a00-4fce-941e-f924b80ce7b4')\"\n",
              "              title=\"Convert this dataframe to an interactive table.\"\n",
              "              style=\"display:none;\">\n",
              "        \n",
              "  <svg xmlns=\"http://www.w3.org/2000/svg\" height=\"24px\"viewBox=\"0 0 24 24\"\n",
              "       width=\"24px\">\n",
              "    <path d=\"M0 0h24v24H0V0z\" fill=\"none\"/>\n",
              "    <path d=\"M18.56 5.44l.94 2.06.94-2.06 2.06-.94-2.06-.94-.94-2.06-.94 2.06-2.06.94zm-11 1L8.5 8.5l.94-2.06 2.06-.94-2.06-.94L8.5 2.5l-.94 2.06-2.06.94zm10 10l.94 2.06.94-2.06 2.06-.94-2.06-.94-.94-2.06-.94 2.06-2.06.94z\"/><path d=\"M17.41 7.96l-1.37-1.37c-.4-.4-.92-.59-1.43-.59-.52 0-1.04.2-1.43.59L10.3 9.45l-7.72 7.72c-.78.78-.78 2.05 0 2.83L4 21.41c.39.39.9.59 1.41.59.51 0 1.02-.2 1.41-.59l7.78-7.78 2.81-2.81c.8-.78.8-2.07 0-2.86zM5.41 20L4 18.59l7.72-7.72 1.47 1.35L5.41 20z\"/>\n",
              "  </svg>\n",
              "      </button>\n",
              "      \n",
              "  <style>\n",
              "    .colab-df-container {\n",
              "      display:flex;\n",
              "      flex-wrap:wrap;\n",
              "      gap: 12px;\n",
              "    }\n",
              "\n",
              "    .colab-df-convert {\n",
              "      background-color: #E8F0FE;\n",
              "      border: none;\n",
              "      border-radius: 50%;\n",
              "      cursor: pointer;\n",
              "      display: none;\n",
              "      fill: #1967D2;\n",
              "      height: 32px;\n",
              "      padding: 0 0 0 0;\n",
              "      width: 32px;\n",
              "    }\n",
              "\n",
              "    .colab-df-convert:hover {\n",
              "      background-color: #E2EBFA;\n",
              "      box-shadow: 0px 1px 2px rgba(60, 64, 67, 0.3), 0px 1px 3px 1px rgba(60, 64, 67, 0.15);\n",
              "      fill: #174EA6;\n",
              "    }\n",
              "\n",
              "    [theme=dark] .colab-df-convert {\n",
              "      background-color: #3B4455;\n",
              "      fill: #D2E3FC;\n",
              "    }\n",
              "\n",
              "    [theme=dark] .colab-df-convert:hover {\n",
              "      background-color: #434B5C;\n",
              "      box-shadow: 0px 1px 3px 1px rgba(0, 0, 0, 0.15);\n",
              "      filter: drop-shadow(0px 1px 2px rgba(0, 0, 0, 0.3));\n",
              "      fill: #FFFFFF;\n",
              "    }\n",
              "  </style>\n",
              "\n",
              "      <script>\n",
              "        const buttonEl =\n",
              "          document.querySelector('#df-7f08ece2-6a00-4fce-941e-f924b80ce7b4 button.colab-df-convert');\n",
              "        buttonEl.style.display =\n",
              "          google.colab.kernel.accessAllowed ? 'block' : 'none';\n",
              "\n",
              "        async function convertToInteractive(key) {\n",
              "          const element = document.querySelector('#df-7f08ece2-6a00-4fce-941e-f924b80ce7b4');\n",
              "          const dataTable =\n",
              "            await google.colab.kernel.invokeFunction('convertToInteractive',\n",
              "                                                     [key], {});\n",
              "          if (!dataTable) return;\n",
              "\n",
              "          const docLinkHtml = 'Like what you see? Visit the ' +\n",
              "            '<a target=\"_blank\" href=https://colab.research.google.com/notebooks/data_table.ipynb>data table notebook</a>'\n",
              "            + ' to learn more about interactive tables.';\n",
              "          element.innerHTML = '';\n",
              "          dataTable['output_type'] = 'display_data';\n",
              "          await google.colab.output.renderOutput(dataTable, element);\n",
              "          const docLink = document.createElement('div');\n",
              "          docLink.innerHTML = docLinkHtml;\n",
              "          element.appendChild(docLink);\n",
              "        }\n",
              "      </script>\n",
              "    </div>\n",
              "  </div>\n",
              "  "
            ]
          },
          "metadata": {},
          "execution_count": 290
        }
      ]
    },
    {
      "cell_type": "code",
      "source": [
        "df['Revenue'].value_counts()"
      ],
      "metadata": {
        "colab": {
          "base_uri": "https://localhost:8080/"
        },
        "id": "peXEGgqHqGpw",
        "outputId": "0b2ace3b-7ca2-453d-ec8e-6f011348bca5"
      },
      "execution_count": 291,
      "outputs": [
        {
          "output_type": "execute_result",
          "data": {
            "text/plain": [
              "False    10422\n",
              "True      1908\n",
              "Name: Revenue, dtype: int64"
            ]
          },
          "metadata": {},
          "execution_count": 291
        }
      ]
    },
    {
      "cell_type": "code",
      "source": [
        "df.describe()"
      ],
      "metadata": {
        "colab": {
          "base_uri": "https://localhost:8080/",
          "height": 364
        },
        "id": "-DWU9UfcYWGV",
        "outputId": "335e1cc0-0383-473b-c961-d44b6354424b"
      },
      "execution_count": 292,
      "outputs": [
        {
          "output_type": "execute_result",
          "data": {
            "text/plain": [
              "       Administrative  Administrative_Duration  Informational  \\\n",
              "count    12330.000000             12330.000000   12330.000000   \n",
              "mean         2.315166                80.818611       0.503569   \n",
              "std          3.321784               176.779107       1.270156   \n",
              "min          0.000000                 0.000000       0.000000   \n",
              "25%          0.000000                 0.000000       0.000000   \n",
              "50%          1.000000                 7.500000       0.000000   \n",
              "75%          4.000000                93.256250       0.000000   \n",
              "max         27.000000              3398.750000      24.000000   \n",
              "\n",
              "       Informational_Duration  ProductRelated  ProductRelated_Duration  \\\n",
              "count            12330.000000    12330.000000             12330.000000   \n",
              "mean                34.472398       31.731468              1194.746220   \n",
              "std                140.749294       44.475503              1913.669288   \n",
              "min                  0.000000        0.000000                 0.000000   \n",
              "25%                  0.000000        7.000000               184.137500   \n",
              "50%                  0.000000       18.000000               598.936905   \n",
              "75%                  0.000000       38.000000              1464.157214   \n",
              "max               2549.375000      705.000000             63973.522230   \n",
              "\n",
              "        BounceRates     ExitRates    PageValues    SpecialDay  \\\n",
              "count  12330.000000  12330.000000  12330.000000  12330.000000   \n",
              "mean       0.022191      0.043073      5.889258      0.061427   \n",
              "std        0.048488      0.048597     18.568437      0.198917   \n",
              "min        0.000000      0.000000      0.000000      0.000000   \n",
              "25%        0.000000      0.014286      0.000000      0.000000   \n",
              "50%        0.003112      0.025156      0.000000      0.000000   \n",
              "75%        0.016813      0.050000      0.000000      0.000000   \n",
              "max        0.200000      0.200000    361.763742      1.000000   \n",
              "\n",
              "       OperatingSystems       Browser        Region   TrafficType  \n",
              "count      12330.000000  12330.000000  12330.000000  12330.000000  \n",
              "mean           2.124006      2.357097      3.147364      4.069586  \n",
              "std            0.911325      1.717277      2.401591      4.025169  \n",
              "min            1.000000      1.000000      1.000000      1.000000  \n",
              "25%            2.000000      2.000000      1.000000      2.000000  \n",
              "50%            2.000000      2.000000      3.000000      2.000000  \n",
              "75%            3.000000      2.000000      4.000000      4.000000  \n",
              "max            8.000000     13.000000      9.000000     20.000000  "
            ],
            "text/html": [
              "\n",
              "  <div id=\"df-5dc7f375-49bc-48fa-8cad-4553d27dee36\">\n",
              "    <div class=\"colab-df-container\">\n",
              "      <div>\n",
              "<style scoped>\n",
              "    .dataframe tbody tr th:only-of-type {\n",
              "        vertical-align: middle;\n",
              "    }\n",
              "\n",
              "    .dataframe tbody tr th {\n",
              "        vertical-align: top;\n",
              "    }\n",
              "\n",
              "    .dataframe thead th {\n",
              "        text-align: right;\n",
              "    }\n",
              "</style>\n",
              "<table border=\"1\" class=\"dataframe\">\n",
              "  <thead>\n",
              "    <tr style=\"text-align: right;\">\n",
              "      <th></th>\n",
              "      <th>Administrative</th>\n",
              "      <th>Administrative_Duration</th>\n",
              "      <th>Informational</th>\n",
              "      <th>Informational_Duration</th>\n",
              "      <th>ProductRelated</th>\n",
              "      <th>ProductRelated_Duration</th>\n",
              "      <th>BounceRates</th>\n",
              "      <th>ExitRates</th>\n",
              "      <th>PageValues</th>\n",
              "      <th>SpecialDay</th>\n",
              "      <th>OperatingSystems</th>\n",
              "      <th>Browser</th>\n",
              "      <th>Region</th>\n",
              "      <th>TrafficType</th>\n",
              "    </tr>\n",
              "  </thead>\n",
              "  <tbody>\n",
              "    <tr>\n",
              "      <th>count</th>\n",
              "      <td>12330.000000</td>\n",
              "      <td>12330.000000</td>\n",
              "      <td>12330.000000</td>\n",
              "      <td>12330.000000</td>\n",
              "      <td>12330.000000</td>\n",
              "      <td>12330.000000</td>\n",
              "      <td>12330.000000</td>\n",
              "      <td>12330.000000</td>\n",
              "      <td>12330.000000</td>\n",
              "      <td>12330.000000</td>\n",
              "      <td>12330.000000</td>\n",
              "      <td>12330.000000</td>\n",
              "      <td>12330.000000</td>\n",
              "      <td>12330.000000</td>\n",
              "    </tr>\n",
              "    <tr>\n",
              "      <th>mean</th>\n",
              "      <td>2.315166</td>\n",
              "      <td>80.818611</td>\n",
              "      <td>0.503569</td>\n",
              "      <td>34.472398</td>\n",
              "      <td>31.731468</td>\n",
              "      <td>1194.746220</td>\n",
              "      <td>0.022191</td>\n",
              "      <td>0.043073</td>\n",
              "      <td>5.889258</td>\n",
              "      <td>0.061427</td>\n",
              "      <td>2.124006</td>\n",
              "      <td>2.357097</td>\n",
              "      <td>3.147364</td>\n",
              "      <td>4.069586</td>\n",
              "    </tr>\n",
              "    <tr>\n",
              "      <th>std</th>\n",
              "      <td>3.321784</td>\n",
              "      <td>176.779107</td>\n",
              "      <td>1.270156</td>\n",
              "      <td>140.749294</td>\n",
              "      <td>44.475503</td>\n",
              "      <td>1913.669288</td>\n",
              "      <td>0.048488</td>\n",
              "      <td>0.048597</td>\n",
              "      <td>18.568437</td>\n",
              "      <td>0.198917</td>\n",
              "      <td>0.911325</td>\n",
              "      <td>1.717277</td>\n",
              "      <td>2.401591</td>\n",
              "      <td>4.025169</td>\n",
              "    </tr>\n",
              "    <tr>\n",
              "      <th>min</th>\n",
              "      <td>0.000000</td>\n",
              "      <td>0.000000</td>\n",
              "      <td>0.000000</td>\n",
              "      <td>0.000000</td>\n",
              "      <td>0.000000</td>\n",
              "      <td>0.000000</td>\n",
              "      <td>0.000000</td>\n",
              "      <td>0.000000</td>\n",
              "      <td>0.000000</td>\n",
              "      <td>0.000000</td>\n",
              "      <td>1.000000</td>\n",
              "      <td>1.000000</td>\n",
              "      <td>1.000000</td>\n",
              "      <td>1.000000</td>\n",
              "    </tr>\n",
              "    <tr>\n",
              "      <th>25%</th>\n",
              "      <td>0.000000</td>\n",
              "      <td>0.000000</td>\n",
              "      <td>0.000000</td>\n",
              "      <td>0.000000</td>\n",
              "      <td>7.000000</td>\n",
              "      <td>184.137500</td>\n",
              "      <td>0.000000</td>\n",
              "      <td>0.014286</td>\n",
              "      <td>0.000000</td>\n",
              "      <td>0.000000</td>\n",
              "      <td>2.000000</td>\n",
              "      <td>2.000000</td>\n",
              "      <td>1.000000</td>\n",
              "      <td>2.000000</td>\n",
              "    </tr>\n",
              "    <tr>\n",
              "      <th>50%</th>\n",
              "      <td>1.000000</td>\n",
              "      <td>7.500000</td>\n",
              "      <td>0.000000</td>\n",
              "      <td>0.000000</td>\n",
              "      <td>18.000000</td>\n",
              "      <td>598.936905</td>\n",
              "      <td>0.003112</td>\n",
              "      <td>0.025156</td>\n",
              "      <td>0.000000</td>\n",
              "      <td>0.000000</td>\n",
              "      <td>2.000000</td>\n",
              "      <td>2.000000</td>\n",
              "      <td>3.000000</td>\n",
              "      <td>2.000000</td>\n",
              "    </tr>\n",
              "    <tr>\n",
              "      <th>75%</th>\n",
              "      <td>4.000000</td>\n",
              "      <td>93.256250</td>\n",
              "      <td>0.000000</td>\n",
              "      <td>0.000000</td>\n",
              "      <td>38.000000</td>\n",
              "      <td>1464.157214</td>\n",
              "      <td>0.016813</td>\n",
              "      <td>0.050000</td>\n",
              "      <td>0.000000</td>\n",
              "      <td>0.000000</td>\n",
              "      <td>3.000000</td>\n",
              "      <td>2.000000</td>\n",
              "      <td>4.000000</td>\n",
              "      <td>4.000000</td>\n",
              "    </tr>\n",
              "    <tr>\n",
              "      <th>max</th>\n",
              "      <td>27.000000</td>\n",
              "      <td>3398.750000</td>\n",
              "      <td>24.000000</td>\n",
              "      <td>2549.375000</td>\n",
              "      <td>705.000000</td>\n",
              "      <td>63973.522230</td>\n",
              "      <td>0.200000</td>\n",
              "      <td>0.200000</td>\n",
              "      <td>361.763742</td>\n",
              "      <td>1.000000</td>\n",
              "      <td>8.000000</td>\n",
              "      <td>13.000000</td>\n",
              "      <td>9.000000</td>\n",
              "      <td>20.000000</td>\n",
              "    </tr>\n",
              "  </tbody>\n",
              "</table>\n",
              "</div>\n",
              "      <button class=\"colab-df-convert\" onclick=\"convertToInteractive('df-5dc7f375-49bc-48fa-8cad-4553d27dee36')\"\n",
              "              title=\"Convert this dataframe to an interactive table.\"\n",
              "              style=\"display:none;\">\n",
              "        \n",
              "  <svg xmlns=\"http://www.w3.org/2000/svg\" height=\"24px\"viewBox=\"0 0 24 24\"\n",
              "       width=\"24px\">\n",
              "    <path d=\"M0 0h24v24H0V0z\" fill=\"none\"/>\n",
              "    <path d=\"M18.56 5.44l.94 2.06.94-2.06 2.06-.94-2.06-.94-.94-2.06-.94 2.06-2.06.94zm-11 1L8.5 8.5l.94-2.06 2.06-.94-2.06-.94L8.5 2.5l-.94 2.06-2.06.94zm10 10l.94 2.06.94-2.06 2.06-.94-2.06-.94-.94-2.06-.94 2.06-2.06.94z\"/><path d=\"M17.41 7.96l-1.37-1.37c-.4-.4-.92-.59-1.43-.59-.52 0-1.04.2-1.43.59L10.3 9.45l-7.72 7.72c-.78.78-.78 2.05 0 2.83L4 21.41c.39.39.9.59 1.41.59.51 0 1.02-.2 1.41-.59l7.78-7.78 2.81-2.81c.8-.78.8-2.07 0-2.86zM5.41 20L4 18.59l7.72-7.72 1.47 1.35L5.41 20z\"/>\n",
              "  </svg>\n",
              "      </button>\n",
              "      \n",
              "  <style>\n",
              "    .colab-df-container {\n",
              "      display:flex;\n",
              "      flex-wrap:wrap;\n",
              "      gap: 12px;\n",
              "    }\n",
              "\n",
              "    .colab-df-convert {\n",
              "      background-color: #E8F0FE;\n",
              "      border: none;\n",
              "      border-radius: 50%;\n",
              "      cursor: pointer;\n",
              "      display: none;\n",
              "      fill: #1967D2;\n",
              "      height: 32px;\n",
              "      padding: 0 0 0 0;\n",
              "      width: 32px;\n",
              "    }\n",
              "\n",
              "    .colab-df-convert:hover {\n",
              "      background-color: #E2EBFA;\n",
              "      box-shadow: 0px 1px 2px rgba(60, 64, 67, 0.3), 0px 1px 3px 1px rgba(60, 64, 67, 0.15);\n",
              "      fill: #174EA6;\n",
              "    }\n",
              "\n",
              "    [theme=dark] .colab-df-convert {\n",
              "      background-color: #3B4455;\n",
              "      fill: #D2E3FC;\n",
              "    }\n",
              "\n",
              "    [theme=dark] .colab-df-convert:hover {\n",
              "      background-color: #434B5C;\n",
              "      box-shadow: 0px 1px 3px 1px rgba(0, 0, 0, 0.15);\n",
              "      filter: drop-shadow(0px 1px 2px rgba(0, 0, 0, 0.3));\n",
              "      fill: #FFFFFF;\n",
              "    }\n",
              "  </style>\n",
              "\n",
              "      <script>\n",
              "        const buttonEl =\n",
              "          document.querySelector('#df-5dc7f375-49bc-48fa-8cad-4553d27dee36 button.colab-df-convert');\n",
              "        buttonEl.style.display =\n",
              "          google.colab.kernel.accessAllowed ? 'block' : 'none';\n",
              "\n",
              "        async function convertToInteractive(key) {\n",
              "          const element = document.querySelector('#df-5dc7f375-49bc-48fa-8cad-4553d27dee36');\n",
              "          const dataTable =\n",
              "            await google.colab.kernel.invokeFunction('convertToInteractive',\n",
              "                                                     [key], {});\n",
              "          if (!dataTable) return;\n",
              "\n",
              "          const docLinkHtml = 'Like what you see? Visit the ' +\n",
              "            '<a target=\"_blank\" href=https://colab.research.google.com/notebooks/data_table.ipynb>data table notebook</a>'\n",
              "            + ' to learn more about interactive tables.';\n",
              "          element.innerHTML = '';\n",
              "          dataTable['output_type'] = 'display_data';\n",
              "          await google.colab.output.renderOutput(dataTable, element);\n",
              "          const docLink = document.createElement('div');\n",
              "          docLink.innerHTML = docLinkHtml;\n",
              "          element.appendChild(docLink);\n",
              "        }\n",
              "      </script>\n",
              "    </div>\n",
              "  </div>\n",
              "  "
            ]
          },
          "metadata": {},
          "execution_count": 292
        }
      ]
    },
    {
      "cell_type": "code",
      "source": [
        "df.describe(exclude='number')"
      ],
      "metadata": {
        "colab": {
          "base_uri": "https://localhost:8080/",
          "height": 175
        },
        "id": "u1Z49N15Yk_C",
        "outputId": "af72aef4-31c9-48fa-b85c-a8f610120bcf"
      },
      "execution_count": 293,
      "outputs": [
        {
          "output_type": "execute_result",
          "data": {
            "text/plain": [
              "        Month        VisitorType Weekend Revenue\n",
              "count   12330              12330   12330   12330\n",
              "unique     10                  3       2       2\n",
              "top       May  Returning_Visitor   False   False\n",
              "freq     3364              10551    9462   10422"
            ],
            "text/html": [
              "\n",
              "  <div id=\"df-3135d83b-b395-4b21-9419-da5ecb63ca3a\">\n",
              "    <div class=\"colab-df-container\">\n",
              "      <div>\n",
              "<style scoped>\n",
              "    .dataframe tbody tr th:only-of-type {\n",
              "        vertical-align: middle;\n",
              "    }\n",
              "\n",
              "    .dataframe tbody tr th {\n",
              "        vertical-align: top;\n",
              "    }\n",
              "\n",
              "    .dataframe thead th {\n",
              "        text-align: right;\n",
              "    }\n",
              "</style>\n",
              "<table border=\"1\" class=\"dataframe\">\n",
              "  <thead>\n",
              "    <tr style=\"text-align: right;\">\n",
              "      <th></th>\n",
              "      <th>Month</th>\n",
              "      <th>VisitorType</th>\n",
              "      <th>Weekend</th>\n",
              "      <th>Revenue</th>\n",
              "    </tr>\n",
              "  </thead>\n",
              "  <tbody>\n",
              "    <tr>\n",
              "      <th>count</th>\n",
              "      <td>12330</td>\n",
              "      <td>12330</td>\n",
              "      <td>12330</td>\n",
              "      <td>12330</td>\n",
              "    </tr>\n",
              "    <tr>\n",
              "      <th>unique</th>\n",
              "      <td>10</td>\n",
              "      <td>3</td>\n",
              "      <td>2</td>\n",
              "      <td>2</td>\n",
              "    </tr>\n",
              "    <tr>\n",
              "      <th>top</th>\n",
              "      <td>May</td>\n",
              "      <td>Returning_Visitor</td>\n",
              "      <td>False</td>\n",
              "      <td>False</td>\n",
              "    </tr>\n",
              "    <tr>\n",
              "      <th>freq</th>\n",
              "      <td>3364</td>\n",
              "      <td>10551</td>\n",
              "      <td>9462</td>\n",
              "      <td>10422</td>\n",
              "    </tr>\n",
              "  </tbody>\n",
              "</table>\n",
              "</div>\n",
              "      <button class=\"colab-df-convert\" onclick=\"convertToInteractive('df-3135d83b-b395-4b21-9419-da5ecb63ca3a')\"\n",
              "              title=\"Convert this dataframe to an interactive table.\"\n",
              "              style=\"display:none;\">\n",
              "        \n",
              "  <svg xmlns=\"http://www.w3.org/2000/svg\" height=\"24px\"viewBox=\"0 0 24 24\"\n",
              "       width=\"24px\">\n",
              "    <path d=\"M0 0h24v24H0V0z\" fill=\"none\"/>\n",
              "    <path d=\"M18.56 5.44l.94 2.06.94-2.06 2.06-.94-2.06-.94-.94-2.06-.94 2.06-2.06.94zm-11 1L8.5 8.5l.94-2.06 2.06-.94-2.06-.94L8.5 2.5l-.94 2.06-2.06.94zm10 10l.94 2.06.94-2.06 2.06-.94-2.06-.94-.94-2.06-.94 2.06-2.06.94z\"/><path d=\"M17.41 7.96l-1.37-1.37c-.4-.4-.92-.59-1.43-.59-.52 0-1.04.2-1.43.59L10.3 9.45l-7.72 7.72c-.78.78-.78 2.05 0 2.83L4 21.41c.39.39.9.59 1.41.59.51 0 1.02-.2 1.41-.59l7.78-7.78 2.81-2.81c.8-.78.8-2.07 0-2.86zM5.41 20L4 18.59l7.72-7.72 1.47 1.35L5.41 20z\"/>\n",
              "  </svg>\n",
              "      </button>\n",
              "      \n",
              "  <style>\n",
              "    .colab-df-container {\n",
              "      display:flex;\n",
              "      flex-wrap:wrap;\n",
              "      gap: 12px;\n",
              "    }\n",
              "\n",
              "    .colab-df-convert {\n",
              "      background-color: #E8F0FE;\n",
              "      border: none;\n",
              "      border-radius: 50%;\n",
              "      cursor: pointer;\n",
              "      display: none;\n",
              "      fill: #1967D2;\n",
              "      height: 32px;\n",
              "      padding: 0 0 0 0;\n",
              "      width: 32px;\n",
              "    }\n",
              "\n",
              "    .colab-df-convert:hover {\n",
              "      background-color: #E2EBFA;\n",
              "      box-shadow: 0px 1px 2px rgba(60, 64, 67, 0.3), 0px 1px 3px 1px rgba(60, 64, 67, 0.15);\n",
              "      fill: #174EA6;\n",
              "    }\n",
              "\n",
              "    [theme=dark] .colab-df-convert {\n",
              "      background-color: #3B4455;\n",
              "      fill: #D2E3FC;\n",
              "    }\n",
              "\n",
              "    [theme=dark] .colab-df-convert:hover {\n",
              "      background-color: #434B5C;\n",
              "      box-shadow: 0px 1px 3px 1px rgba(0, 0, 0, 0.15);\n",
              "      filter: drop-shadow(0px 1px 2px rgba(0, 0, 0, 0.3));\n",
              "      fill: #FFFFFF;\n",
              "    }\n",
              "  </style>\n",
              "\n",
              "      <script>\n",
              "        const buttonEl =\n",
              "          document.querySelector('#df-3135d83b-b395-4b21-9419-da5ecb63ca3a button.colab-df-convert');\n",
              "        buttonEl.style.display =\n",
              "          google.colab.kernel.accessAllowed ? 'block' : 'none';\n",
              "\n",
              "        async function convertToInteractive(key) {\n",
              "          const element = document.querySelector('#df-3135d83b-b395-4b21-9419-da5ecb63ca3a');\n",
              "          const dataTable =\n",
              "            await google.colab.kernel.invokeFunction('convertToInteractive',\n",
              "                                                     [key], {});\n",
              "          if (!dataTable) return;\n",
              "\n",
              "          const docLinkHtml = 'Like what you see? Visit the ' +\n",
              "            '<a target=\"_blank\" href=https://colab.research.google.com/notebooks/data_table.ipynb>data table notebook</a>'\n",
              "            + ' to learn more about interactive tables.';\n",
              "          element.innerHTML = '';\n",
              "          dataTable['output_type'] = 'display_data';\n",
              "          await google.colab.output.renderOutput(dataTable, element);\n",
              "          const docLink = document.createElement('div');\n",
              "          docLink.innerHTML = docLinkHtml;\n",
              "          element.appendChild(docLink);\n",
              "        }\n",
              "      </script>\n",
              "    </div>\n",
              "  </div>\n",
              "  "
            ]
          },
          "metadata": {},
          "execution_count": 293
        }
      ]
    },
    {
      "cell_type": "code",
      "source": [
        "def report(y_train, y_train_pred, y_test, y_test_pred, y_train_proba=None, y_test_proba=None):\n",
        "    print('Train\\n', classification_report(y_train, y_train_pred, digits=3))\n",
        "    print('Test\\n', classification_report(y_test, y_test_pred, digits=3))\n",
        "    if y_train_proba is not None and y_test_proba is not None:\n",
        "        roc_train, roc_test = roc_auc_score(y_train, y_train_proba), roc_auc_score(y_test, y_test_proba)\n",
        "        print(f'Train ROC_AUC: {roc_train:.4f}, Test ROC_AUC: {roc_test:.4f}')\n",
        "    print('Confusion Matrix', '\\n', pd.crosstab(y_test, y_test_pred))\n",
        "    \n",
        "def reduce_memory(df):\n",
        "    start_mem = df.memory_usage().sum() / 1024 ** 2\n",
        "    for col in df.columns:\n",
        "        col_type = df[col].dtype\n",
        "        if col_type != object and str(col_type)[:4] != 'uint' and str(col_type) != 'category':\n",
        "            c_min = df[col].min()\n",
        "            c_max = df[col].max()\n",
        "            if str(col_type)[:3] == 'int':\n",
        "                if c_min > np.iinfo(np.int8).min and c_max < np.iinfo(np.int8).max:\n",
        "                    df[col] = df[col].astype(np.int8)\n",
        "                elif c_min > np.iinfo(np.int16).min and c_max < np.iinfo(np.int16).max:\n",
        "                    df[col] = df[col].astype(np.int16)\n",
        "                elif c_min > np.iinfo(np.int32).min and c_max < np.iinfo(np.int32).max:\n",
        "                    df[col] = df[col].astype(np.int32)\n",
        "                elif c_min > np.iinfo(np.int64).min and c_max < np.iinfo(np.int64).max:\n",
        "                    df[col] = df[col].astype(np.int64)\n",
        "            else:\n",
        "                if c_min > np.finfo(np.float32).min and c_max < np.finfo(np.float32).max:\n",
        "                    df[col] = df[col].astype(np.float32)\n",
        "                else:\n",
        "                    df[col] = df[col].astype(np.float64)\n",
        "        elif str(col_type)[:4] != 'uint':\n",
        "            df[col] = df[col].astype('category')\n",
        "    end_mem = df.memory_usage().sum() / 1024 ** 2\n",
        "    return df\n"
      ],
      "metadata": {
        "id": "bCb-q09nYz2u"
      },
      "execution_count": 294,
      "outputs": []
    },
    {
      "cell_type": "code",
      "source": [
        "df['Revenue'] = df['Revenue'].map({True:1, False:0}).astype(np.uint8)"
      ],
      "metadata": {
        "id": "tUMJSC8yaM_2"
      },
      "execution_count": 295,
      "outputs": []
    },
    {
      "cell_type": "code",
      "source": [
        "df.skew().sort_values(ascending=False)"
      ],
      "metadata": {
        "colab": {
          "base_uri": "https://localhost:8080/"
        },
        "id": "UI_2Twhlyo90",
        "outputId": "8a38d767-e2bd-420c-faa2-71087db705e9"
      },
      "execution_count": 296,
      "outputs": [
        {
          "output_type": "execute_result",
          "data": {
            "text/plain": [
              "Informational_Duration     7.579185\n",
              "ProductRelated_Duration    7.263228\n",
              "PageValues                 6.382964\n",
              "Administrative_Duration    5.615719\n",
              "ProductRelated             4.341516\n",
              "Informational              4.036464\n",
              "SpecialDay                 3.302667\n",
              "Browser                    3.242350\n",
              "BounceRates                2.947855\n",
              "ExitRates                  2.148789\n",
              "OperatingSystems           2.066285\n",
              "TrafficType                1.962987\n",
              "Administrative             1.960357\n",
              "Revenue                    1.909509\n",
              "Weekend                    1.265962\n",
              "Region                     0.983549\n",
              "dtype: float64"
            ]
          },
          "metadata": {},
          "execution_count": 296
        }
      ]
    },
    {
      "cell_type": "code",
      "source": [
        "plt.figure(figsize=(20,15))\n",
        "for i, column in enumerate(df.select_dtypes(include='number').columns, 1):\n",
        "    plt.subplot(4, 4, i)\n",
        "    plt.title(f'{column}')\n",
        "    sns.boxplot(y=df[column], x=df['Revenue'], data=df)\n",
        "plt.tight_layout()\n",
        "plt.show()"
      ],
      "metadata": {
        "colab": {
          "base_uri": "https://localhost:8080/",
          "height": 884
        },
        "id": "EYyK3kpmZCQa",
        "outputId": "c0660398-17f6-46b5-f532-ff1d9dbe870d"
      },
      "execution_count": 297,
      "outputs": [
        {
          "output_type": "display_data",
          "data": {
            "text/plain": [
              "<Figure size 1440x1080 with 15 Axes>"
            ],
            "image/png": "[encoded data removed]"
          },
          "metadata": {
            "needs_background": "light"
          }
        }
      ]
    },
    {
      "cell_type": "code",
      "source": [
        "df = reduce_memory(df)\n",
        "df.info()"
      ],
      "metadata": {
        "colab": {
          "base_uri": "https://localhost:8080/"
        },
        "id": "_xo4O0GuaAJQ",
        "outputId": "ea8b2a72-bdb6-44f6-e9cd-d0304cf01218"
      },
      "execution_count": 298,
      "outputs": [
        {
          "output_type": "stream",
          "name": "stdout",
          "text": [
            "<class 'pandas.core.frame.DataFrame'>\n",
            "RangeIndex: 12330 entries, 0 to 12329\n",
            "Data columns (total 18 columns):\n",
            " #   Column                   Non-Null Count  Dtype   \n",
            "---  ------                   --------------  -----   \n",
            " 0   Administrative           12330 non-null  int8    \n",
            " 1   Administrative_Duration  12330 non-null  float32 \n",
            " 2   Informational            12330 non-null  int8    \n",
            " 3   Informational_Duration   12330 non-null  float32 \n",
            " 4   ProductRelated           12330 non-null  int16   \n",
            " 5   ProductRelated_Duration  12330 non-null  float32 \n",
            " 6   BounceRates              12330 non-null  float32 \n",
            " 7   ExitRates                12330 non-null  float32 \n",
            " 8   PageValues               12330 non-null  float32 \n",
            " 9   SpecialDay               12330 non-null  float32 \n",
            " 10  Month                    12330 non-null  category\n",
            " 11  OperatingSystems         12330 non-null  int8    \n",
            " 12  Browser                  12330 non-null  int8    \n",
            " 13  Region                   12330 non-null  int8    \n",
            " 14  TrafficType              12330 non-null  int8    \n",
            " 15  VisitorType              12330 non-null  category\n",
            " 16  Weekend                  12330 non-null  float32 \n",
            " 17  Revenue                  12330 non-null  uint8   \n",
            "dtypes: category(2), float32(8), int16(1), int8(6), uint8(1)\n",
            "memory usage: 518.4 KB\n"
          ]
        }
      ]
    },
    {
      "cell_type": "markdown",
      "source": [
        "### Train catboost ordinal model"
      ],
      "metadata": {
        "id": "Bz3TG-LcfDzn"
      }
    },
    {
      "cell_type": "code",
      "source": [
        "X, y = df.drop('Revenue', axis=1), df['Revenue']\n",
        "X_train, X_test, y_train, y_test = train_test_split(X, y, test_size=2500, shuffle=True, stratify=y, random_state=seed)\n",
        "X_train, X_valid, y_train, y_valid = train_test_split(X_train, y_train, test_size=1500, shuffle=True, stratify=y_train, random_state=seed)\n",
        "print(f'Train size: {len(y_train)}, validation size: {len(y_valid)}, test size: {len(y_test)}')"
      ],
      "metadata": {
        "colab": {
          "base_uri": "https://localhost:8080/"
        },
        "id": "Iad1MCXMjZQR",
        "outputId": "07e5106c-fd1d-4ade-9f86-36d447c887bf"
      },
      "execution_count": 299,
      "outputs": [
        {
          "output_type": "stream",
          "name": "stdout",
          "text": [
            "Train size: 8330, validation size: 1500, test size: 2500\n"
          ]
        }
      ]
    },
    {
      "cell_type": "code",
      "source": [
        "cat_cols = df.select_dtypes(include=['category', np.int8, np.int16]).columns.tolist()\n",
        "train_pool = Pool(X_train, y_train, cat_features=cat_cols)\n",
        "valid_pool = Pool(X_valid, y_valid, cat_features=cat_cols)"
      ],
      "metadata": {
        "id": "2VSnn0pGjQu6"
      },
      "execution_count": 300,
      "outputs": []
    },
    {
      "cell_type": "code",
      "source": [
        "base_cat = CatBoostClassifier(verbose=0).fit(train_pool, eval_set=valid_pool)\n",
        "\n",
        "base_train_pred = base_cat.predict(X_train)\n",
        "base_test_pred = base_cat.predict(X_test)\n",
        "\n",
        "base_train_probs = base_cat.predict_proba(X_train)[:,1]\n",
        "base_test_probs = base_cat.predict_proba(X_test)[:,1]\n",
        "\n",
        "report(y_train, base_train_pred, y_test, base_test_pred, base_train_probs, base_test_probs)"
      ],
      "metadata": {
        "colab": {
          "base_uri": "https://localhost:8080/"
        },
        "id": "k8CS2OcXlqMa",
        "outputId": "1abefdac-7744-44c1-d3f2-9854cb0b9850"
      },
      "execution_count": 301,
      "outputs": [
        {
          "output_type": "stream",
          "name": "stdout",
          "text": [
            "Train\n",
            "               precision    recall  f1-score   support\n",
            "\n",
            "           0      0.944     0.972     0.958      7041\n",
            "           1      0.820     0.685     0.746      1289\n",
            "\n",
            "    accuracy                          0.928      8330\n",
            "   macro avg      0.882     0.829     0.852      8330\n",
            "weighted avg      0.925     0.928     0.925      8330\n",
            "\n",
            "Test\n",
            "               precision    recall  f1-score   support\n",
            "\n",
            "           0      0.927     0.958     0.942      2113\n",
            "           1      0.721     0.587     0.647       387\n",
            "\n",
            "    accuracy                          0.901      2500\n",
            "   macro avg      0.824     0.772     0.795      2500\n",
            "weighted avg      0.895     0.901     0.897      2500\n",
            "\n",
            "Train ROC_AUC: 0.9596, Test ROC_AUC: 0.9320\n",
            "Confusion Matrix \n",
            " col_0       0    1\n",
            "Revenue           \n",
            "0        2025   88\n",
            "1         160  227\n"
          ]
        }
      ]
    },
    {
      "cell_type": "code",
      "source": [
        "precision, recall, thresholds = precision_recall_curve(y_test, base_test_probs)\n",
        "fscore = (2 * precision * recall) / (precision + recall)\n",
        "ix = np.argmax(fscore)\n",
        "print('Best Threshold=%f, F-Score=%.3f, Precision=%.3f, Recall=%.3f' % (thresholds[ix], \n",
        "                                                                        fscore[ix],\n",
        "                                                                        precision[ix],\n",
        "                                                                        recall[ix]))"
      ],
      "metadata": {
        "colab": {
          "base_uri": "https://localhost:8080/"
        },
        "id": "Keu01BOVmxDJ",
        "outputId": "aa03e666-0d64-4108-b37b-45bf83569654"
      },
      "execution_count": 302,
      "outputs": [
        {
          "output_type": "stream",
          "name": "stdout",
          "text": [
            "Best Threshold=0.368307, F-Score=0.677, Precision=0.667, Recall=0.687\n"
          ]
        }
      ]
    },
    {
      "cell_type": "code",
      "source": [
        "def select_features(algorithm: EFeaturesSelectionAlgorithm, steps: int = 2, num_select=13):\n",
        "        model = CatBoostClassifier(iterations=200, auto_class_weights='Balanced', random_seed=seed)\n",
        "        summary = model.select_features(\n",
        "            train_pool,\n",
        "            eval_set=valid_pool,\n",
        "            features_for_select=list(range(train_pool.num_col())),\n",
        "            num_features_to_select=num_select,\n",
        "            steps=steps,\n",
        "            algorithm=algorithm,\n",
        "            shap_calc_type=EShapCalcType.Regular,\n",
        "            train_final_model=False,\n",
        "            logging_level='Silent',\n",
        "            plot=True\n",
        "        )\n",
        "        return summary"
      ],
      "metadata": {
        "id": "XbeKfcJP0X3I"
      },
      "execution_count": 303,
      "outputs": []
    },
    {
      "cell_type": "code",
      "source": [
        "summary = select_features(EFeaturesSelectionAlgorithm.RecursiveByShapValues, num_select=15, steps=2)\n",
        "X = X[summary['selected_features_names']]\n",
        "X_train, X_test, y_train, y_test = train_test_split(X, y, test_size=2500, shuffle=True, stratify=y, random_state=seed)\n",
        "X_train, X_valid, y_train, y_valid = train_test_split(X_train, y_train, test_size=1500, shuffle=True, stratify=y_train, random_state=seed)"
      ],
      "metadata": {
        "colab": {
          "base_uri": "https://localhost:8080/",
          "height": 542,
          "referenced_widgets": [
            "4cd29c2246d74f5da9e67ece1a536400"
          ]
        },
        "id": "egVLwfZL0xq0",
        "outputId": "7e437f78-9948-4007-819a-832f8b29bdf5"
      },
      "execution_count": 16,
      "outputs": [
        {
          "output_type": "display_data",
          "data": {
            "text/plain": [
              "MetricVisualizer(layout=Layout(align_self='stretch', height='500px'))"
            ],
            "application/vnd.jupyter.widget-view+json": {
              "version_major": 2,
              "version_minor": 0,
              "model_id": "4cd29c2246d74f5da9e67ece1a536400"
            }
          },
          "metadata": {}
        },
        {
          "output_type": "display_data",
          "data": {
            "text/html": [
              "<html>\n",
              "<head><meta charset=\"utf-8\" /></head>\n",
              "<body>\n",
              "    <div>            <script src=\"https://cdnjs.cloudflare.com/ajax/libs/mathjax/2.7.5/MathJax.js?config=TeX-AMS-MML_SVG\"></script><script type=\"text/javascript\">if (window.MathJax) {MathJax.Hub.Config({SVG: {font: \"STIX-Web\"}});}</script>                <script type=\"text/javascript\">window.PlotlyConfig = {MathJaxConfig: 'local'};</script>\n",
              "        <script src=\"https://cdn.plot.ly/plotly-2.8.3.min.js\"></script>                <div id=\"77e85d74-178e-4f43-bb9b-6406cfdaa4da\" class=\"plotly-graph-div\" style=\"height:525px; width:100%;\"></div>            <script type=\"text/javascript\">                                    window.PLOTLYENV=window.PLOTLYENV || {};                                    if (document.getElementById(\"77e85d74-178e-4f43-bb9b-6406cfdaa4da\")) {                    Plotly.newPlot(                        \"77e85d74-178e-4f43-bb9b-6406cfdaa4da\",                        [{\"line\":{\"color\":\"rgb(51,160,44)\"},\"mode\":\"lines+markers\",\"name\":\"\",\"text\":[\"\",\"Informational_Duration\",\"Administrative_Duration\"],\"x\":[0,1,2],\"y\":[0.3012450562201618,0.2992604825663882,0.29908574732623144],\"type\":\"scatter\"},{\"marker\":{\"size\":10,\"symbol\":\"square\"},\"mode\":\"markers\",\"name\":\"\",\"text\":[\"\",\"Informational_Duration\"],\"x\":[0,1],\"y\":[0.3012450562201618,0.2992604825663882],\"type\":\"scatter\"},{\"mode\":\"text\",\"name\":\"\",\"text\":[\"\",\"3\",\"1\"],\"textfont\":{\"color\":\"rgb(51,160,44)\",\"family\":\"sans serif\",\"size\":18},\"textposition\":\"bottom center\",\"visible\":false,\"x\":[0,1,2],\"y\":[0.3012450562201618,0.2992604825663882,0.29908574732623144],\"type\":\"scatter\"},{\"mode\":\"text\",\"name\":\"\",\"text\":[\"\",\"Informational_Duration\",\"Administrative_Duration\"],\"textfont\":{\"color\":\"rgb(51,160,44)\",\"family\":\"sans serif\",\"size\":18},\"textposition\":\"bottom center\",\"visible\":false,\"x\":[0,1,2],\"y\":[0.3012450562201618,0.2992604825663882,0.29908574732623144],\"type\":\"scatter\"}],                        {\"template\":{\"data\":{\"bar\":[{\"error_x\":{\"color\":\"#2a3f5f\"},\"error_y\":{\"color\":\"#2a3f5f\"},\"marker\":{\"line\":{\"color\":\"#E5ECF6\",\"width\":0.5},\"pattern\":{\"fillmode\":\"overlay\",\"size\":10,\"solidity\":0.2}},\"type\":\"bar\"}],\"barpolar\":[{\"marker\":{\"line\":{\"color\":\"#E5ECF6\",\"width\":0.5},\"pattern\":{\"fillmode\":\"overlay\",\"size\":10,\"solidity\":0.2}},\"type\":\"barpolar\"}],\"carpet\":[{\"aaxis\":{\"endlinecolor\":\"#2a3f5f\",\"gridcolor\":\"white\",\"linecolor\":\"white\",\"minorgridcolor\":\"white\",\"startlinecolor\":\"#2a3f5f\"},\"baxis\":{\"endlinecolor\":\"#2a3f5f\",\"gridcolor\":\"white\",\"linecolor\":\"white\",\"minorgridcolor\":\"white\",\"startlinecolor\":\"#2a3f5f\"},\"type\":\"carpet\"}],\"choropleth\":[{\"colorbar\":{\"outlinewidth\":0,\"ticks\":\"\"},\"type\":\"choropleth\"}],\"contour\":[{\"colorbar\":{\"outlinewidth\":0,\"ticks\":\"\"},\"colorscale\":[[0.0,\"#0d0887\"],[0.1111111111111111,\"#46039f\"],[0.2222222222222222,\"#7201a8\"],[0.3333333333333333,\"#9c179e\"],[0.4444444444444444,\"#bd3786\"],[0.5555555555555556,\"#d8576b\"],[0.6666666666666666,\"#ed7953\"],[0.7777777777777778,\"#fb9f3a\"],[0.8888888888888888,\"#fdca26\"],[1.0,\"#f0f921\"]],\"type\":\"contour\"}],\"contourcarpet\":[{\"colorbar\":{\"outlinewidth\":0,\"ticks\":\"\"},\"type\":\"contourcarpet\"}],\"heatmap\":[{\"colorbar\":{\"outlinewidth\":0,\"ticks\":\"\"},\"colorscale\":[[0.0,\"#0d0887\"],[0.1111111111111111,\"#46039f\"],[0.2222222222222222,\"#7201a8\"],[0.3333333333333333,\"#9c179e\"],[0.4444444444444444,\"#bd3786\"],[0.5555555555555556,\"#d8576b\"],[0.6666666666666666,\"#ed7953\"],[0.7777777777777778,\"#fb9f3a\"],[0.8888888888888888,\"#fdca26\"],[1.0,\"#f0f921\"]],\"type\":\"heatmap\"}],\"heatmapgl\":[{\"colorbar\":{\"outlinewidth\":0,\"ticks\":\"\"},\"colorscale\":[[0.0,\"#0d0887\"],[0.1111111111111111,\"#46039f\"],[0.2222222222222222,\"#7201a8\"],[0.3333333333333333,\"#9c179e\"],[0.4444444444444444,\"#bd3786\"],[0.5555555555555556,\"#d8576b\"],[0.6666666666666666,\"#ed7953\"],[0.7777777777777778,\"#fb9f3a\"],[0.8888888888888888,\"#fdca26\"],[1.0,\"#f0f921\"]],\"type\":\"heatmapgl\"}],\"histogram\":[{\"marker\":{\"pattern\":{\"fillmode\":\"overlay\",\"size\":10,\"solidity\":0.2}},\"type\":\"histogram\"}],\"histogram2d\":[{\"colorbar\":{\"outlinewidth\":0,\"ticks\":\"\"},\"colorscale\":[[0.0,\"#0d0887\"],[0.1111111111111111,\"#46039f\"],[0.2222222222222222,\"#7201a8\"],[0.3333333333333333,\"#9c179e\"],[0.4444444444444444,\"#bd3786\"],[0.5555555555555556,\"#d8576b\"],[0.6666666666666666,\"#ed7953\"],[0.7777777777777778,\"#fb9f3a\"],[0.8888888888888888,\"#fdca26\"],[1.0,\"#f0f921\"]],\"type\":\"histogram2d\"}],\"histogram2dcontour\":[{\"colorbar\":{\"outlinewidth\":0,\"ticks\":\"\"},\"colorscale\":[[0.0,\"#0d0887\"],[0.1111111111111111,\"#46039f\"],[0.2222222222222222,\"#7201a8\"],[0.3333333333333333,\"#9c179e\"],[0.4444444444444444,\"#bd3786\"],[0.5555555555555556,\"#d8576b\"],[0.6666666666666666,\"#ed7953\"],[0.7777777777777778,\"#fb9f3a\"],[0.8888888888888888,\"#fdca26\"],[1.0,\"#f0f921\"]],\"type\":\"histogram2dcontour\"}],\"mesh3d\":[{\"colorbar\":{\"outlinewidth\":0,\"ticks\":\"\"},\"type\":\"mesh3d\"}],\"parcoords\":[{\"line\":{\"colorbar\":{\"outlinewidth\":0,\"ticks\":\"\"}},\"type\":\"parcoords\"}],\"pie\":[{\"automargin\":true,\"type\":\"pie\"}],\"scatter\":[{\"marker\":{\"colorbar\":{\"outlinewidth\":0,\"ticks\":\"\"}},\"type\":\"scatter\"}],\"scatter3d\":[{\"line\":{\"colorbar\":{\"outlinewidth\":0,\"ticks\":\"\"}},\"marker\":{\"colorbar\":{\"outlinewidth\":0,\"ticks\":\"\"}},\"type\":\"scatter3d\"}],\"scattercarpet\":[{\"marker\":{\"colorbar\":{\"outlinewidth\":0,\"ticks\":\"\"}},\"type\":\"scattercarpet\"}],\"scattergeo\":[{\"marker\":{\"colorbar\":{\"outlinewidth\":0,\"ticks\":\"\"}},\"type\":\"scattergeo\"}],\"scattergl\":[{\"marker\":{\"colorbar\":{\"outlinewidth\":0,\"ticks\":\"\"}},\"type\":\"scattergl\"}],\"scattermapbox\":[{\"marker\":{\"colorbar\":{\"outlinewidth\":0,\"ticks\":\"\"}},\"type\":\"scattermapbox\"}],\"scatterpolar\":[{\"marker\":{\"colorbar\":{\"outlinewidth\":0,\"ticks\":\"\"}},\"type\":\"scatterpolar\"}],\"scatterpolargl\":[{\"marker\":{\"colorbar\":{\"outlinewidth\":0,\"ticks\":\"\"}},\"type\":\"scatterpolargl\"}],\"scatterternary\":[{\"marker\":{\"colorbar\":{\"outlinewidth\":0,\"ticks\":\"\"}},\"type\":\"scatterternary\"}],\"surface\":[{\"colorbar\":{\"outlinewidth\":0,\"ticks\":\"\"},\"colorscale\":[[0.0,\"#0d0887\"],[0.1111111111111111,\"#46039f\"],[0.2222222222222222,\"#7201a8\"],[0.3333333333333333,\"#9c179e\"],[0.4444444444444444,\"#bd3786\"],[0.5555555555555556,\"#d8576b\"],[0.6666666666666666,\"#ed7953\"],[0.7777777777777778,\"#fb9f3a\"],[0.8888888888888888,\"#fdca26\"],[1.0,\"#f0f921\"]],\"type\":\"surface\"}],\"table\":[{\"cells\":{\"fill\":{\"color\":\"#EBF0F8\"},\"line\":{\"color\":\"white\"}},\"header\":{\"fill\":{\"color\":\"#C8D4E3\"},\"line\":{\"color\":\"white\"}},\"type\":\"table\"}]},\"layout\":{\"annotationdefaults\":{\"arrowcolor\":\"#2a3f5f\",\"arrowhead\":0,\"arrowwidth\":1},\"autotypenumbers\":\"strict\",\"coloraxis\":{\"colorbar\":{\"outlinewidth\":0,\"ticks\":\"\"}},\"colorscale\":{\"diverging\":[[0,\"#8e0152\"],[0.1,\"#c51b7d\"],[0.2,\"#de77ae\"],[0.3,\"#f1b6da\"],[0.4,\"#fde0ef\"],[0.5,\"#f7f7f7\"],[0.6,\"#e6f5d0\"],[0.7,\"#b8e186\"],[0.8,\"#7fbc41\"],[0.9,\"#4d9221\"],[1,\"#276419\"]],\"sequential\":[[0.0,\"#0d0887\"],[0.1111111111111111,\"#46039f\"],[0.2222222222222222,\"#7201a8\"],[0.3333333333333333,\"#9c179e\"],[0.4444444444444444,\"#bd3786\"],[0.5555555555555556,\"#d8576b\"],[0.6666666666666666,\"#ed7953\"],[0.7777777777777778,\"#fb9f3a\"],[0.8888888888888888,\"#fdca26\"],[1.0,\"#f0f921\"]],\"sequentialminus\":[[0.0,\"#0d0887\"],[0.1111111111111111,\"#46039f\"],[0.2222222222222222,\"#7201a8\"],[0.3333333333333333,\"#9c179e\"],[0.4444444444444444,\"#bd3786\"],[0.5555555555555556,\"#d8576b\"],[0.6666666666666666,\"#ed7953\"],[0.7777777777777778,\"#fb9f3a\"],[0.8888888888888888,\"#fdca26\"],[1.0,\"#f0f921\"]]},\"colorway\":[\"#636efa\",\"#EF553B\",\"#00cc96\",\"#ab63fa\",\"#FFA15A\",\"#19d3f3\",\"#FF6692\",\"#B6E880\",\"#FF97FF\",\"#FECB52\"],\"font\":{\"color\":\"#2a3f5f\"},\"geo\":{\"bgcolor\":\"white\",\"lakecolor\":\"white\",\"landcolor\":\"#E5ECF6\",\"showlakes\":true,\"showland\":true,\"subunitcolor\":\"white\"},\"hoverlabel\":{\"align\":\"left\"},\"hovermode\":\"closest\",\"mapbox\":{\"style\":\"light\"},\"paper_bgcolor\":\"white\",\"plot_bgcolor\":\"#E5ECF6\",\"polar\":{\"angularaxis\":{\"gridcolor\":\"white\",\"linecolor\":\"white\",\"ticks\":\"\"},\"bgcolor\":\"#E5ECF6\",\"radialaxis\":{\"gridcolor\":\"white\",\"linecolor\":\"white\",\"ticks\":\"\"}},\"scene\":{\"xaxis\":{\"backgroundcolor\":\"#E5ECF6\",\"gridcolor\":\"white\",\"gridwidth\":2,\"linecolor\":\"white\",\"showbackground\":true,\"ticks\":\"\",\"zerolinecolor\":\"white\"},\"yaxis\":{\"backgroundcolor\":\"#E5ECF6\",\"gridcolor\":\"white\",\"gridwidth\":2,\"linecolor\":\"white\",\"showbackground\":true,\"ticks\":\"\",\"zerolinecolor\":\"white\"},\"zaxis\":{\"backgroundcolor\":\"#E5ECF6\",\"gridcolor\":\"white\",\"gridwidth\":2,\"linecolor\":\"white\",\"showbackground\":true,\"ticks\":\"\",\"zerolinecolor\":\"white\"}},\"shapedefaults\":{\"line\":{\"color\":\"#2a3f5f\"}},\"ternary\":{\"aaxis\":{\"gridcolor\":\"white\",\"linecolor\":\"white\",\"ticks\":\"\"},\"baxis\":{\"gridcolor\":\"white\",\"linecolor\":\"white\",\"ticks\":\"\"},\"bgcolor\":\"#E5ECF6\",\"caxis\":{\"gridcolor\":\"white\",\"linecolor\":\"white\",\"ticks\":\"\"}},\"title\":{\"x\":0.05},\"xaxis\":{\"automargin\":true,\"gridcolor\":\"white\",\"linecolor\":\"white\",\"ticks\":\"\",\"title\":{\"standoff\":15},\"zerolinecolor\":\"white\",\"zerolinewidth\":2},\"yaxis\":{\"automargin\":true,\"gridcolor\":\"white\",\"linecolor\":\"white\",\"ticks\":\"\",\"title\":{\"standoff\":15},\"zerolinecolor\":\"white\",\"zerolinewidth\":2}}},\"title\":{\"text\":\"Loss by eliminated features\"},\"xaxis\":{\"title\":{\"text\":\"number of removed features\"},\"gridcolor\":\"rgb(255,255,255)\",\"showgrid\":true,\"showline\":false,\"showticklabels\":true,\"tickcolor\":\"rgb(127,127,127)\",\"ticks\":\"outside\",\"zeroline\":false},\"yaxis\":{\"title\":{\"text\":\"loss value\",\"font\":{\"color\":\"rgb(51,160,44)\"}},\"tickfont\":{\"color\":\"rgb(51,160,44)\"},\"gridcolor\":\"rgb(255,255,255)\",\"showgrid\":true,\"showline\":false,\"showticklabels\":true,\"tickcolor\":\"rgb(127,127,127)\",\"ticks\":\"outside\",\"zeroline\":false},\"updatemenus\":[{\"active\":0,\"buttons\":[{\"args\":[{\"visible\":[true,true,false,false]}],\"label\":\"Hide features\",\"method\":\"update\"},{\"args\":[{\"visible\":[true,true,true,false]}],\"label\":\"Show indices\",\"method\":\"update\"},{\"args\":[{\"visible\":[true,true,false,true]}],\"label\":\"Show names\",\"method\":\"update\"}],\"pad\":{\"r\":10,\"t\":10},\"showactive\":true,\"x\":-0.25,\"xanchor\":\"left\",\"y\":1.03,\"yanchor\":\"top\"}],\"showlegend\":false},                        {\"responsive\": true}                    ).then(function(){\n",
              "                            \n",
              "var gd = document.getElementById('77e85d74-178e-4f43-bb9b-6406cfdaa4da');\n",
              "var x = new MutationObserver(function (mutations, observer) {{\n",
              "        var display = window.getComputedStyle(gd).display;\n",
              "        if (!display || display === 'none') {{\n",
              "            console.log([gd, 'removed!']);\n",
              "            Plotly.purge(gd);\n",
              "            observer.disconnect();\n",
              "        }}\n",
              "}});\n",
              "\n",
              "// Listen for the removal of the full notebook cells\n",
              "var notebookContainer = gd.closest('#notebook-container');\n",
              "if (notebookContainer) {{\n",
              "    x.observe(notebookContainer, {childList: true});\n",
              "}}\n",
              "\n",
              "// Listen for the clearing of the current output cell\n",
              "var outputEl = gd.closest('.output');\n",
              "if (outputEl) {{\n",
              "    x.observe(outputEl, {childList: true});\n",
              "}}\n",
              "\n",
              "                        })                };                            </script>        </div>\n",
              "</body>\n",
              "</html>"
            ]
          },
          "metadata": {}
        }
      ]
    },
    {
      "cell_type": "code",
      "source": [
        "cat_cols = X.select_dtypes(include=['category', np.int8, np.int16]).columns.tolist()\n",
        "train_pool = Pool(X_train, y_train, cat_features=cat_cols)\n",
        "valid_pool = Pool(X_valid, y_valid, cat_features=cat_cols)"
      ],
      "metadata": {
        "id": "Of0MIRKD0ykz"
      },
      "execution_count": 11,
      "outputs": []
    },
    {
      "cell_type": "code",
      "source": [
        "params_model = {\n",
        "    'eval_metric': 'F1', \n",
        "    'iterations': 2000,\n",
        "    'silent': True,\n",
        "    'early_stopping_rounds': 10,\n",
        "    'allow_writing_files': False,\n",
        "    'grow_policy': 'SymmetricTree',\n",
        "    'use_best_model': True,\n",
        "    'random_seed': seed,\n",
        "    'combinations_ctr': ['Counter:CtrBorderCount=120:Prior=0.5/1'],\n",
        "    'simple_ctr': ['Counter:CtrBorderCount=120:Prior=0.5/1'],\n",
        "    }"
      ],
      "metadata": {
        "id": "Gh3ocI-7eWHe"
      },
      "execution_count": 18,
      "outputs": []
    },
    {
      "cell_type": "code",
      "source": [
        "def objective(trial):\n",
        "    param_trials = {\n",
        "                    'depth': trial.suggest_int('depth', 3, 9),\n",
        "                    'learning_rate': trial.suggest_float('learning_rate', 0.01, 0.5),\n",
        "                    'l2_leaf_reg': trial.suggest_float('l2_leaf_reg', 1., 5.),\n",
        "                    'bagging_temperature': trial.suggest_float('bagging_temperature', 1., 3.),\n",
        "                    'subsample': trial.suggest_float('subsample', 0.3, 1.),\n",
        "                    'colsample_bylevel': trial.suggest_float('colsample_bylevel', 0.3, 1.),\n",
        "                    'boosting_type': trial.suggest_categorical('boosting_type', ['Ordered', 'Plain']),\n",
        "                    'auto_class_weights': trial.suggest_categorical('auto_class_weights', ['Balanced', 'SqrtBalanced']),\n",
        "                    'one_hot_max_size': trial.suggest_int('one_hot_max_size', 3, 16),\n",
        "                    'max_ctr_complexity': trial.suggest_int('max_ctr_complexity', 3, 10),\n",
        "                    }\n",
        "    param_trials.update(params_model)\n",
        "    \n",
        "    opt_model = CatBoostClassifier(**param_trials)\n",
        "    opt_model.fit(train_pool, eval_set=valid_pool)\n",
        "    \n",
        "    y_pred = opt_model.predict(X_valid)\n",
        "    score = f1_score(y_valid, y_pred)\n",
        "    \n",
        "    return score"
      ],
      "metadata": {
        "id": "3uVNeCY-nm2c"
      },
      "execution_count": 19,
      "outputs": []
    },
    {
      "cell_type": "code",
      "source": [
        "optuna.logging.set_verbosity(optuna.logging.FATAL)\n",
        "study = optuna.create_study(sampler=TPESampler(seed=seed), direction=\"maximize\")\n",
        "study.optimize(objective, n_trials=200, timeout=6000, n_jobs=-1)\n",
        "\n",
        "print(f'Number of completed trials: {len(study.trials)}')\n",
        "print('Best trial')\n",
        "trial = study.best_trial\n",
        "print(f'Best score: {trial.value}')\n",
        "print('Best params')\n",
        "for key, value in trial.params.items():\n",
        "    print(f'{key}: {value}')"
      ],
      "metadata": {
        "id": "HdgGOX-ChhUU"
      },
      "execution_count": null,
      "outputs": []
    },
    {
      "cell_type": "code",
      "source": [
        "# if take all features\n",
        "params_model = {\n",
        "    'eval_metric': 'F1', \n",
        "    'iterations': 2000,\n",
        "    'silent': True,\n",
        "    'early_stopping_rounds': 5,\n",
        "    'allow_writing_files': False,\n",
        "    'grow_policy': 'SymmetricTree',\n",
        "    'use_best_model': True,\n",
        "    'random_seed': seed,\n",
        "    'combinations_ctr': ['Counter:CtrBorderCount=120:Prior=0.5/1'],\n",
        "    'simple_ctr': ['Counter:CtrBorderCount=120:Prior=0.5/1'],\n",
        "    'auto_class_weights': 'SqrtBalanced',\n",
        "    'bagging_temperature': 2.7663199021139073,\n",
        "    'boosting_type': 'Plain',\n",
        "    'colsample_bylevel': 0.7810192466472345,\n",
        "    'depth': 6,\n",
        "    'l2_leaf_reg': 2.6200141325970447,\n",
        "    'learning_rate': 0.27246089668130946,\n",
        "    'max_ctr_complexity': 6,\n",
        "    'one_hot_max_size': 13,\n",
        "    'subsample': 0.720762012326664\n",
        "}"
      ],
      "metadata": {
        "id": "v7tYvJtfp0IT"
      },
      "execution_count": 304,
      "outputs": []
    },
    {
      "cell_type": "code",
      "source": [
        "cat = CatBoostClassifier(**params_model).fit(train_pool, eval_set=valid_pool)\n",
        "\n",
        "train_pred = cat.predict(X_train)\n",
        "test_pred = cat.predict(X_test)\n",
        "\n",
        "train_probs = cat.predict_proba(X_train)[:,1]\n",
        "test_probs = cat.predict_proba(X_test)[:,1]\n",
        "\n",
        "report(y_train, train_pred, y_test, test_pred, train_probs, test_probs)"
      ],
      "metadata": {
        "colab": {
          "base_uri": "https://localhost:8080/"
        },
        "id": "R7HN4cxAqDJf",
        "outputId": "ad0fa6ae-b88f-4c6a-a4b9-860d0ab50a10"
      },
      "execution_count": 305,
      "outputs": [
        {
          "output_type": "stream",
          "name": "stdout",
          "text": [
            "Train\n",
            "               precision    recall  f1-score   support\n",
            "\n",
            "           0      0.955     0.922     0.938      7041\n",
            "           1      0.642     0.760     0.696      1289\n",
            "\n",
            "    accuracy                          0.897      8330\n",
            "   macro avg      0.798     0.841     0.817      8330\n",
            "weighted avg      0.906     0.897     0.901      8330\n",
            "\n",
            "Test\n",
            "               precision    recall  f1-score   support\n",
            "\n",
            "           0      0.950     0.919     0.934      2113\n",
            "           1      0.624     0.734     0.675       387\n",
            "\n",
            "    accuracy                          0.890      2500\n",
            "   macro avg      0.787     0.826     0.804      2500\n",
            "weighted avg      0.899     0.890     0.894      2500\n",
            "\n",
            "Train ROC_AUC: 0.9376, Test ROC_AUC: 0.9205\n",
            "Confusion Matrix \n",
            " col_0       0    1\n",
            "Revenue           \n",
            "0        1942  171\n",
            "1         103  284\n"
          ]
        }
      ]
    },
    {
      "cell_type": "code",
      "source": [
        "def get_best_threshold(y_true, y_score):\n",
        "    precision, recall, thresholds = precision_recall_curve(y_true, y_score)\n",
        "    fscore = 2 * precision * recall / (precision + recall + 1e-10)\n",
        "    ix = np.argmax(fscore)\n",
        "    return thresholds[ix], fscore[ix]"
      ],
      "metadata": {
        "id": "QnxPNHOmsuMn"
      },
      "execution_count": 306,
      "outputs": []
    },
    {
      "cell_type": "code",
      "source": [
        "thres, _ = get_best_threshold(y_test, test_probs)"
      ],
      "metadata": {
        "id": "w-rxoRpUufjU"
      },
      "execution_count": 307,
      "outputs": []
    },
    {
      "cell_type": "code",
      "source": [
        "labels = (test_probs >= thres).astype(np.uint8)"
      ],
      "metadata": {
        "id": "Qa_vDgTOAITX"
      },
      "execution_count": 308,
      "outputs": []
    },
    {
      "cell_type": "code",
      "source": [
        "metrics = pd.DataFrame(columns=['F1', 'Precision', 'Recall', 'AUC', 'Accuracy', 'Threshold'])"
      ],
      "metadata": {
        "id": "HXMCniuZ_s37"
      },
      "execution_count": 309,
      "outputs": []
    },
    {
      "cell_type": "code",
      "source": [
        "metrics.loc['Base', :] = [f1_score(y_test, labels), precision_score(y_test, labels), recall_score(y_test, labels),\n",
        "                          roc_auc_score(y_test, test_probs), accuracy_score(y_test, labels), thres]\n",
        "metrics"
      ],
      "metadata": {
        "colab": {
          "base_uri": "https://localhost:8080/",
          "height": 81
        },
        "id": "Zl8RbR4YABA6",
        "outputId": "48fc7bc6-706f-4951-9d68-2bc6782e4a8d"
      },
      "execution_count": 310,
      "outputs": [
        {
          "output_type": "execute_result",
          "data": {
            "text/plain": [
              "            F1 Precision    Recall      AUC Accuracy Threshold\n",
              "Base  0.678744  0.637188  0.726098  0.92045   0.8936  0.536921"
            ],
            "text/html": [
              "\n",
              "  <div id=\"df-a66521ed-b424-48ed-9207-d91dfaf699d7\">\n",
              "    <div class=\"colab-df-container\">\n",
              "      <div>\n",
              "<style scoped>\n",
              "    .dataframe tbody tr th:only-of-type {\n",
              "        vertical-align: middle;\n",
              "    }\n",
              "\n",
              "    .dataframe tbody tr th {\n",
              "        vertical-align: top;\n",
              "    }\n",
              "\n",
              "    .dataframe thead th {\n",
              "        text-align: right;\n",
              "    }\n",
              "</style>\n",
              "<table border=\"1\" class=\"dataframe\">\n",
              "  <thead>\n",
              "    <tr style=\"text-align: right;\">\n",
              "      <th></th>\n",
              "      <th>F1</th>\n",
              "      <th>Precision</th>\n",
              "      <th>Recall</th>\n",
              "      <th>AUC</th>\n",
              "      <th>Accuracy</th>\n",
              "      <th>Threshold</th>\n",
              "    </tr>\n",
              "  </thead>\n",
              "  <tbody>\n",
              "    <tr>\n",
              "      <th>Base</th>\n",
              "      <td>0.678744</td>\n",
              "      <td>0.637188</td>\n",
              "      <td>0.726098</td>\n",
              "      <td>0.92045</td>\n",
              "      <td>0.8936</td>\n",
              "      <td>0.536921</td>\n",
              "    </tr>\n",
              "  </tbody>\n",
              "</table>\n",
              "</div>\n",
              "      <button class=\"colab-df-convert\" onclick=\"convertToInteractive('df-a66521ed-b424-48ed-9207-d91dfaf699d7')\"\n",
              "              title=\"Convert this dataframe to an interactive table.\"\n",
              "              style=\"display:none;\">\n",
              "        \n",
              "  <svg xmlns=\"http://www.w3.org/2000/svg\" height=\"24px\"viewBox=\"0 0 24 24\"\n",
              "       width=\"24px\">\n",
              "    <path d=\"M0 0h24v24H0V0z\" fill=\"none\"/>\n",
              "    <path d=\"M18.56 5.44l.94 2.06.94-2.06 2.06-.94-2.06-.94-.94-2.06-.94 2.06-2.06.94zm-11 1L8.5 8.5l.94-2.06 2.06-.94-2.06-.94L8.5 2.5l-.94 2.06-2.06.94zm10 10l.94 2.06.94-2.06 2.06-.94-2.06-.94-.94-2.06-.94 2.06-2.06.94z\"/><path d=\"M17.41 7.96l-1.37-1.37c-.4-.4-.92-.59-1.43-.59-.52 0-1.04.2-1.43.59L10.3 9.45l-7.72 7.72c-.78.78-.78 2.05 0 2.83L4 21.41c.39.39.9.59 1.41.59.51 0 1.02-.2 1.41-.59l7.78-7.78 2.81-2.81c.8-.78.8-2.07 0-2.86zM5.41 20L4 18.59l7.72-7.72 1.47 1.35L5.41 20z\"/>\n",
              "  </svg>\n",
              "      </button>\n",
              "      \n",
              "  <style>\n",
              "    .colab-df-container {\n",
              "      display:flex;\n",
              "      flex-wrap:wrap;\n",
              "      gap: 12px;\n",
              "    }\n",
              "\n",
              "    .colab-df-convert {\n",
              "      background-color: #E8F0FE;\n",
              "      border: none;\n",
              "      border-radius: 50%;\n",
              "      cursor: pointer;\n",
              "      display: none;\n",
              "      fill: #1967D2;\n",
              "      height: 32px;\n",
              "      padding: 0 0 0 0;\n",
              "      width: 32px;\n",
              "    }\n",
              "\n",
              "    .colab-df-convert:hover {\n",
              "      background-color: #E2EBFA;\n",
              "      box-shadow: 0px 1px 2px rgba(60, 64, 67, 0.3), 0px 1px 3px 1px rgba(60, 64, 67, 0.15);\n",
              "      fill: #174EA6;\n",
              "    }\n",
              "\n",
              "    [theme=dark] .colab-df-convert {\n",
              "      background-color: #3B4455;\n",
              "      fill: #D2E3FC;\n",
              "    }\n",
              "\n",
              "    [theme=dark] .colab-df-convert:hover {\n",
              "      background-color: #434B5C;\n",
              "      box-shadow: 0px 1px 3px 1px rgba(0, 0, 0, 0.15);\n",
              "      filter: drop-shadow(0px 1px 2px rgba(0, 0, 0, 0.3));\n",
              "      fill: #FFFFFF;\n",
              "    }\n",
              "  </style>\n",
              "\n",
              "      <script>\n",
              "        const buttonEl =\n",
              "          document.querySelector('#df-a66521ed-b424-48ed-9207-d91dfaf699d7 button.colab-df-convert');\n",
              "        buttonEl.style.display =\n",
              "          google.colab.kernel.accessAllowed ? 'block' : 'none';\n",
              "\n",
              "        async function convertToInteractive(key) {\n",
              "          const element = document.querySelector('#df-a66521ed-b424-48ed-9207-d91dfaf699d7');\n",
              "          const dataTable =\n",
              "            await google.colab.kernel.invokeFunction('convertToInteractive',\n",
              "                                                     [key], {});\n",
              "          if (!dataTable) return;\n",
              "\n",
              "          const docLinkHtml = 'Like what you see? Visit the ' +\n",
              "            '<a target=\"_blank\" href=https://colab.research.google.com/notebooks/data_table.ipynb>data table notebook</a>'\n",
              "            + ' to learn more about interactive tables.';\n",
              "          element.innerHTML = '';\n",
              "          dataTable['output_type'] = 'display_data';\n",
              "          await google.colab.output.renderOutput(dataTable, element);\n",
              "          const docLink = document.createElement('div');\n",
              "          docLink.innerHTML = docLinkHtml;\n",
              "          element.appendChild(docLink);\n",
              "        }\n",
              "      </script>\n",
              "    </div>\n",
              "  </div>\n",
              "  "
            ]
          },
          "metadata": {},
          "execution_count": 310
        }
      ]
    },
    {
      "cell_type": "markdown",
      "source": [
        "### PU learning"
      ],
      "metadata": {
        "id": "KPC4CGiou_Xp"
      }
    },
    {
      "cell_type": "code",
      "source": [
        "p = 0.25\n",
        "# add valid data to get more samples as we are not going to split train data into train and valid sets\n",
        "# like in labeled dataset\n",
        "mod_data = pd.concat([X_train, X_valid], axis=0)\n",
        "mod_data['Revenue'] = pd.concat([y_train, y_valid], axis=0)\n",
        "mod_data = mod_data.reset_index(drop=True)\n",
        "\n",
        "pos_ind = np.where(mod_data.iloc[:,-1].values == 1)[0]\n",
        "\n",
        "np.random.shuffle(pos_ind)\n",
        "\n",
        "pos_sample_len = int(np.ceil(p * len(pos_ind)))\n",
        "print(f'Using {pos_sample_len}/{len(pos_ind)} as positives and unlabeling the rest')\n",
        "pos_sample = pos_ind[:pos_sample_len]"
      ],
      "metadata": {
        "colab": {
          "base_uri": "https://localhost:8080/"
        },
        "id": "6Jfo0FFHeebz",
        "outputId": "6a2cb8fa-3b87-4e17-dd50-2145b2cab377"
      },
      "execution_count": 364,
      "outputs": [
        {
          "output_type": "stream",
          "name": "stdout",
          "text": [
            "Using 381/1521 as positives and unlabeling the rest\n"
          ]
        }
      ]
    },
    {
      "cell_type": "code",
      "source": [
        "mod_data['class_test'] = -1\n",
        "mod_data.loc[pos_sample,'class_test'] = 1\n",
        "print('target variable:\\n', mod_data.iloc[:,-1].value_counts())"
      ],
      "metadata": {
        "colab": {
          "base_uri": "https://localhost:8080/"
        },
        "id": "o6xMwMyje25o",
        "outputId": "279dd403-75bd-4fde-ad2f-fe62422234db"
      },
      "execution_count": 365,
      "outputs": [
        {
          "output_type": "stream",
          "name": "stdout",
          "text": [
            "target variable:\n",
            " -1    9449\n",
            " 1     381\n",
            "Name: class_test, dtype: int64\n"
          ]
        }
      ]
    },
    {
      "cell_type": "code",
      "source": [
        "mod_data = mod_data.sample(frac=1, random_state=seed)\n",
        "\n",
        "data_N = mod_data[mod_data['class_test'] == -1]\n",
        "data_P = mod_data[mod_data['class_test'] == 1]\n",
        "\n",
        "neg_sample = data_N[:data_P.shape[0]]\n",
        "sample_test = data_N[data_P.shape[0]:]\n",
        "pos_sample = data_P.copy()\n",
        "\n",
        "print(neg_sample.shape, pos_sample.shape)\n",
        "sample_train = pd.concat([neg_sample, pos_sample]).sample(frac=1, random_state=seed)"
      ],
      "metadata": {
        "colab": {
          "base_uri": "https://localhost:8080/"
        },
        "id": "zf_cbKvAi0MQ",
        "outputId": "9a3b73a5-94e0-4e92-b5e4-3ed4c93fd706"
      },
      "execution_count": 366,
      "outputs": [
        {
          "output_type": "stream",
          "name": "stdout",
          "text": [
            "(381, 19) (381, 19)\n"
          ]
        }
      ]
    },
    {
      "cell_type": "code",
      "source": [
        "sample_train.loc[sample_train.class_test == -1, 'class_test'] = 0\n",
        "\n",
        "X_sample, y_sample, y_target = sample_train.drop(['Revenue', 'class_test'],axis=1), sample_train['Revenue'], sample_train['class_test']"
      ],
      "metadata": {
        "id": "J_Q8QoV2jnSS"
      },
      "execution_count": 367,
      "outputs": []
    },
    {
      "cell_type": "code",
      "source": [
        "pcat = CatBoostClassifier(verbose=0, \n",
        "                          iterations=20,\n",
        "                          subsample=0.3,\n",
        "                          depth=5,\n",
        "                          random_seed=seed,\n",
        "                          grow_policy='SymmetricTree',\n",
        "                          boosting_type='Ordered',\n",
        "                          learning_rate=0.1, \n",
        "                          cat_features=cat_cols).fit(X_sample, y_target)"
      ],
      "metadata": {
        "id": "KQrx82I2jwh9"
      },
      "execution_count": 368,
      "outputs": []
    },
    {
      "cell_type": "code",
      "source": [
        "ptrain_pred = pcat.predict(X_sample)\n",
        "ptest_pred = pcat.predict(X_test)\n",
        "\n",
        "ptrain_probs = pcat.predict_proba(X_sample)[:,1]\n",
        "ptest_probs = pcat.predict_proba(X_test)[:,1]\n",
        "\n",
        "report(y_target, ptrain_pred, y_test, ptest_pred, ptrain_probs, ptest_probs)"
      ],
      "metadata": {
        "colab": {
          "base_uri": "https://localhost:8080/"
        },
        "id": "emm8fqaCj21A",
        "outputId": "b986b91b-22a4-4b40-9d68-b4eb1ca78722"
      },
      "execution_count": 370,
      "outputs": [
        {
          "output_type": "stream",
          "name": "stdout",
          "text": [
            "Train\n",
            "               precision    recall  f1-score   support\n",
            "\n",
            "           0      0.784     0.829     0.806       381\n",
            "           1      0.819     0.772     0.795       381\n",
            "\n",
            "    accuracy                          0.801       762\n",
            "   macro avg      0.802     0.801     0.800       762\n",
            "weighted avg      0.802     0.801     0.800       762\n",
            "\n",
            "Test\n",
            "               precision    recall  f1-score   support\n",
            "\n",
            "           0      0.953     0.903     0.927      2113\n",
            "           1      0.589     0.755     0.661       387\n",
            "\n",
            "    accuracy                          0.880      2500\n",
            "   macro avg      0.771     0.829     0.794      2500\n",
            "weighted avg      0.896     0.880     0.886      2500\n",
            "\n",
            "Train ROC_AUC: 0.9004, Test ROC_AUC: 0.9089\n",
            "Confusion Matrix \n",
            " col_0       0    1\n",
            "Revenue           \n",
            "0        1909  204\n",
            "1          95  292\n"
          ]
        }
      ]
    },
    {
      "cell_type": "code",
      "source": [
        "p = 0.25\n",
        "# train set only\n",
        "mod_data = X_train.copy()\n",
        "mod_data['Revenue'] = y_train\n",
        "mod_data = mod_data.reset_index(drop=True)\n",
        "\n",
        "pos_ind = np.where(mod_data.iloc[:,-1].values == 1)[0]\n",
        "\n",
        "np.random.shuffle(pos_ind)\n",
        "\n",
        "pos_sample_len = int(np.ceil(p * len(pos_ind)))\n",
        "pos_sample = pos_ind[:pos_sample_len]\n",
        "\n",
        "mod_data['class_test'] = -1\n",
        "mod_data.loc[pos_sample,'class_test'] = 1\n",
        "\n",
        "mod_data = mod_data.sample(frac=1, random_state=seed)\n",
        "\n",
        "data_N = mod_data[mod_data['class_test'] == -1]\n",
        "data_P = mod_data[mod_data['class_test'] == 1]\n",
        "\n",
        "neg_sample = data_N[:data_P.shape[0]]\n",
        "sample_test = data_N[data_P.shape[0]:]\n",
        "pos_sample = data_P.copy()\n",
        "\n",
        "sample_train = pd.concat([neg_sample, pos_sample]).sample(frac=1, random_state=seed)\n",
        "\n",
        "sample_train.loc[sample_train.class_test == -1, 'class_test'] = 0\n",
        "\n",
        "X_sample, y_target = sample_train.drop(['Revenue', 'class_test'],axis=1), sample_train['class_test']\n",
        "\n",
        "pcat = CatBoostClassifier(verbose=0, \n",
        "                          iterations=20,\n",
        "                          subsample=0.3,\n",
        "                          depth=5,\n",
        "                          random_seed=seed,\n",
        "                          grow_policy='SymmetricTree',\n",
        "                          boosting_type='Ordered',\n",
        "                          learning_rate=0.1, \n",
        "                          cat_features=cat_cols).fit(X_sample, y_target)\n",
        "\n",
        "ptrain_pred = pcat.predict(X_sample)\n",
        "ptest_pred = pcat.predict(X_test)\n",
        "\n",
        "ptrain_probs = pcat.predict_proba(X_sample)[:,1]\n",
        "ptest_probs = pcat.predict_proba(X_test)[:,1]\n",
        "\n",
        "report(y_target, ptrain_pred, y_test, ptest_pred, ptrain_probs, ptest_probs)"
      ],
      "metadata": {
        "colab": {
          "base_uri": "https://localhost:8080/"
        },
        "id": "qgt2xxpkbTl6",
        "outputId": "206c79a1-45ba-4c90-9c06-af5a204704b5"
      },
      "execution_count": 387,
      "outputs": [
        {
          "output_type": "stream",
          "name": "stdout",
          "text": [
            "Train\n",
            "               precision    recall  f1-score   support\n",
            "\n",
            "           0      0.790     0.793     0.791       323\n",
            "           1      0.792     0.789     0.791       323\n",
            "\n",
            "    accuracy                          0.791       646\n",
            "   macro avg      0.791     0.791     0.791       646\n",
            "weighted avg      0.791     0.791     0.791       646\n",
            "\n",
            "Test\n",
            "               precision    recall  f1-score   support\n",
            "\n",
            "           0      0.957     0.884     0.919      2113\n",
            "           1      0.553     0.783     0.648       387\n",
            "\n",
            "    accuracy                          0.868      2500\n",
            "   macro avg      0.755     0.833     0.784      2500\n",
            "weighted avg      0.894     0.868     0.877      2500\n",
            "\n",
            "Train ROC_AUC: 0.8613, Test ROC_AUC: 0.9060\n",
            "Confusion Matrix \n",
            " col_0       0    1\n",
            "Revenue           \n",
            "0        1868  245\n",
            "1          84  303\n"
          ]
        }
      ]
    },
    {
      "cell_type": "markdown",
      "source": [
        "#### Compare"
      ],
      "metadata": {
        "id": "ytBfeSGzbUZZ"
      }
    },
    {
      "cell_type": "code",
      "source": [
        "p_values = [0.1, 0.25, 0.3, 0.6, 0.5, 0.75, 0.9]\n",
        "\n",
        "for p in p_values:\n",
        "    mod_data = pd.concat([X_train, X_valid], axis=0)\n",
        "    mod_data['Revenue'] = pd.concat([y_train, y_valid], axis=0)\n",
        "    mod_data = mod_data.reset_index(drop=True)\n",
        "    pos_ind = np.where(mod_data.iloc[:,-1].values == 1)[0]\n",
        "    np.random.seed(seed)\n",
        "    np.random.shuffle(pos_ind)\n",
        "    pos_sample_len = int(np.ceil(p * len(pos_ind)))\n",
        "    pos_sample = pos_ind[:pos_sample_len]\n",
        "\n",
        "    mod_data['class_test'] = -1\n",
        "    mod_data.loc[pos_sample,'class_test'] = 1\n",
        "\n",
        "    mod_data = mod_data.sample(frac=1, random_state=seed)\n",
        "    data_N = mod_data[mod_data['class_test'] == -1]\n",
        "    data_P = mod_data[mod_data['class_test'] == 1]\n",
        "    neg_sample = data_N[:data_P.shape[0]]\n",
        "    sample_test = data_N[data_P.shape[0]:]\n",
        "    pos_sample = data_P.copy()\n",
        "    sample_train = pd.concat([neg_sample, pos_sample]).sample(frac=1, random_state=seed)\n",
        "    sample_train.loc[sample_train.class_test == -1, 'class_test'] = 0\n",
        "    X_sample, y_target = sample_train.drop(['Revenue', 'class_test'],axis=1), sample_train['class_test']\n",
        "\n",
        "    pcat = CatBoostClassifier(verbose=0, \n",
        "                              iterations=20,\n",
        "                              subsample=0.3,\n",
        "                              depth=5,\n",
        "                              random_seed=seed,\n",
        "                              grow_policy='SymmetricTree',\n",
        "                              boosting_type='Ordered',\n",
        "                              learning_rate=0.1, \n",
        "                              cat_features=cat_cols).fit(X_sample, y_target)\n",
        "\n",
        "    ptest_pred = pcat.predict(X_test)\n",
        "    ptest_probs = pcat.predict_proba(X_test)[:,1]\n",
        "    thres, _ = get_best_threshold(y_test, ptest_probs)\n",
        "    labels = (ptest_probs >= thres).astype(np.uint8)\n",
        "\n",
        "    metrics.loc[f'PU_{p}', :] = [f1_score(y_test, labels), precision_score(y_test, labels), recall_score(y_test, labels),\n",
        "                                 roc_auc_score(y_test, ptest_probs), accuracy_score(y_test, labels), thres]\n",
        "\n",
        "metrics.sort_values('F1')"
      ],
      "metadata": {
        "colab": {
          "base_uri": "https://localhost:8080/",
          "height": 300
        },
        "id": "pScq6u_X9mrL",
        "outputId": "c5abe0cb-21ac-404c-9ff8-78e7a5e0001e"
      },
      "execution_count": 394,
      "outputs": [
        {
          "output_type": "execute_result",
          "data": {
            "text/plain": [
              "               F1 Precision    Recall       AUC Accuracy Threshold\n",
              "PU_0.1   0.646919  0.597374  0.705426  0.898678   0.8808  0.605944\n",
              "PU_0.75  0.652226   0.61036  0.700258  0.918643   0.8844  0.660266\n",
              "PU_0.25  0.652968  0.584867  0.739018   0.90785   0.8784  0.589149\n",
              "PU_0.6   0.653625  0.589212   0.73385  0.906776   0.8796  0.607592\n",
              "PU_0.3   0.654628  0.581162  0.749354  0.916219   0.8776  0.585807\n",
              "PU_0.5   0.655212  0.588477  0.739018  0.913574   0.8796  0.593395\n",
              "PU_0.9   0.655481  0.577909  0.757106  0.913831   0.8768  0.576364\n",
              "Base     0.678744  0.637188  0.726098   0.92045   0.8936  0.536921"
            ],
            "text/html": [
              "\n",
              "  <div id=\"df-b9876be2-9062-485f-9343-5c61b317eaec\">\n",
              "    <div class=\"colab-df-container\">\n",
              "      <div>\n",
              "<style scoped>\n",
              "    .dataframe tbody tr th:only-of-type {\n",
              "        vertical-align: middle;\n",
              "    }\n",
              "\n",
              "    .dataframe tbody tr th {\n",
              "        vertical-align: top;\n",
              "    }\n",
              "\n",
              "    .dataframe thead th {\n",
              "        text-align: right;\n",
              "    }\n",
              "</style>\n",
              "<table border=\"1\" class=\"dataframe\">\n",
              "  <thead>\n",
              "    <tr style=\"text-align: right;\">\n",
              "      <th></th>\n",
              "      <th>F1</th>\n",
              "      <th>Precision</th>\n",
              "      <th>Recall</th>\n",
              "      <th>AUC</th>\n",
              "      <th>Accuracy</th>\n",
              "      <th>Threshold</th>\n",
              "    </tr>\n",
              "  </thead>\n",
              "  <tbody>\n",
              "    <tr>\n",
              "      <th>PU_0.1</th>\n",
              "      <td>0.646919</td>\n",
              "      <td>0.597374</td>\n",
              "      <td>0.705426</td>\n",
              "      <td>0.898678</td>\n",
              "      <td>0.8808</td>\n",
              "      <td>0.605944</td>\n",
              "    </tr>\n",
              "    <tr>\n",
              "      <th>PU_0.75</th>\n",
              "      <td>0.652226</td>\n",
              "      <td>0.61036</td>\n",
              "      <td>0.700258</td>\n",
              "      <td>0.918643</td>\n",
              "      <td>0.8844</td>\n",
              "      <td>0.660266</td>\n",
              "    </tr>\n",
              "    <tr>\n",
              "      <th>PU_0.25</th>\n",
              "      <td>0.652968</td>\n",
              "      <td>0.584867</td>\n",
              "      <td>0.739018</td>\n",
              "      <td>0.90785</td>\n",
              "      <td>0.8784</td>\n",
              "      <td>0.589149</td>\n",
              "    </tr>\n",
              "    <tr>\n",
              "      <th>PU_0.6</th>\n",
              "      <td>0.653625</td>\n",
              "      <td>0.589212</td>\n",
              "      <td>0.73385</td>\n",
              "      <td>0.906776</td>\n",
              "      <td>0.8796</td>\n",
              "      <td>0.607592</td>\n",
              "    </tr>\n",
              "    <tr>\n",
              "      <th>PU_0.3</th>\n",
              "      <td>0.654628</td>\n",
              "      <td>0.581162</td>\n",
              "      <td>0.749354</td>\n",
              "      <td>0.916219</td>\n",
              "      <td>0.8776</td>\n",
              "      <td>0.585807</td>\n",
              "    </tr>\n",
              "    <tr>\n",
              "      <th>PU_0.5</th>\n",
              "      <td>0.655212</td>\n",
              "      <td>0.588477</td>\n",
              "      <td>0.739018</td>\n",
              "      <td>0.913574</td>\n",
              "      <td>0.8796</td>\n",
              "      <td>0.593395</td>\n",
              "    </tr>\n",
              "    <tr>\n",
              "      <th>PU_0.9</th>\n",
              "      <td>0.655481</td>\n",
              "      <td>0.577909</td>\n",
              "      <td>0.757106</td>\n",
              "      <td>0.913831</td>\n",
              "      <td>0.8768</td>\n",
              "      <td>0.576364</td>\n",
              "    </tr>\n",
              "    <tr>\n",
              "      <th>Base</th>\n",
              "      <td>0.678744</td>\n",
              "      <td>0.637188</td>\n",
              "      <td>0.726098</td>\n",
              "      <td>0.92045</td>\n",
              "      <td>0.8936</td>\n",
              "      <td>0.536921</td>\n",
              "    </tr>\n",
              "  </tbody>\n",
              "</table>\n",
              "</div>\n",
              "      <button class=\"colab-df-convert\" onclick=\"convertToInteractive('df-b9876be2-9062-485f-9343-5c61b317eaec')\"\n",
              "              title=\"Convert this dataframe to an interactive table.\"\n",
              "              style=\"display:none;\">\n",
              "        \n",
              "  <svg xmlns=\"http://www.w3.org/2000/svg\" height=\"24px\"viewBox=\"0 0 24 24\"\n",
              "       width=\"24px\">\n",
              "    <path d=\"M0 0h24v24H0V0z\" fill=\"none\"/>\n",
              "    <path d=\"M18.56 5.44l.94 2.06.94-2.06 2.06-.94-2.06-.94-.94-2.06-.94 2.06-2.06.94zm-11 1L8.5 8.5l.94-2.06 2.06-.94-2.06-.94L8.5 2.5l-.94 2.06-2.06.94zm10 10l.94 2.06.94-2.06 2.06-.94-2.06-.94-.94-2.06-.94 2.06-2.06.94z\"/><path d=\"M17.41 7.96l-1.37-1.37c-.4-.4-.92-.59-1.43-.59-.52 0-1.04.2-1.43.59L10.3 9.45l-7.72 7.72c-.78.78-.78 2.05 0 2.83L4 21.41c.39.39.9.59 1.41.59.51 0 1.02-.2 1.41-.59l7.78-7.78 2.81-2.81c.8-.78.8-2.07 0-2.86zM5.41 20L4 18.59l7.72-7.72 1.47 1.35L5.41 20z\"/>\n",
              "  </svg>\n",
              "      </button>\n",
              "      \n",
              "  <style>\n",
              "    .colab-df-container {\n",
              "      display:flex;\n",
              "      flex-wrap:wrap;\n",
              "      gap: 12px;\n",
              "    }\n",
              "\n",
              "    .colab-df-convert {\n",
              "      background-color: #E8F0FE;\n",
              "      border: none;\n",
              "      border-radius: 50%;\n",
              "      cursor: pointer;\n",
              "      display: none;\n",
              "      fill: #1967D2;\n",
              "      height: 32px;\n",
              "      padding: 0 0 0 0;\n",
              "      width: 32px;\n",
              "    }\n",
              "\n",
              "    .colab-df-convert:hover {\n",
              "      background-color: #E2EBFA;\n",
              "      box-shadow: 0px 1px 2px rgba(60, 64, 67, 0.3), 0px 1px 3px 1px rgba(60, 64, 67, 0.15);\n",
              "      fill: #174EA6;\n",
              "    }\n",
              "\n",
              "    [theme=dark] .colab-df-convert {\n",
              "      background-color: #3B4455;\n",
              "      fill: #D2E3FC;\n",
              "    }\n",
              "\n",
              "    [theme=dark] .colab-df-convert:hover {\n",
              "      background-color: #434B5C;\n",
              "      box-shadow: 0px 1px 3px 1px rgba(0, 0, 0, 0.15);\n",
              "      filter: drop-shadow(0px 1px 2px rgba(0, 0, 0, 0.3));\n",
              "      fill: #FFFFFF;\n",
              "    }\n",
              "  </style>\n",
              "\n",
              "      <script>\n",
              "        const buttonEl =\n",
              "          document.querySelector('#df-b9876be2-9062-485f-9343-5c61b317eaec button.colab-df-convert');\n",
              "        buttonEl.style.display =\n",
              "          google.colab.kernel.accessAllowed ? 'block' : 'none';\n",
              "\n",
              "        async function convertToInteractive(key) {\n",
              "          const element = document.querySelector('#df-b9876be2-9062-485f-9343-5c61b317eaec');\n",
              "          const dataTable =\n",
              "            await google.colab.kernel.invokeFunction('convertToInteractive',\n",
              "                                                     [key], {});\n",
              "          if (!dataTable) return;\n",
              "\n",
              "          const docLinkHtml = 'Like what you see? Visit the ' +\n",
              "            '<a target=\"_blank\" href=https://colab.research.google.com/notebooks/data_table.ipynb>data table notebook</a>'\n",
              "            + ' to learn more about interactive tables.';\n",
              "          element.innerHTML = '';\n",
              "          dataTable['output_type'] = 'display_data';\n",
              "          await google.colab.output.renderOutput(dataTable, element);\n",
              "          const docLink = document.createElement('div');\n",
              "          docLink.innerHTML = docLinkHtml;\n",
              "          element.appendChild(docLink);\n",
              "        }\n",
              "      </script>\n",
              "    </div>\n",
              "  </div>\n",
              "  "
            ]
          },
          "metadata": {},
          "execution_count": 394
        }
      ]
    }
  ],
  "metadata": {
    "kernelspec": {
      "display_name": "Python 3",
      "language": "python",
      "name": "python3"
    },
    "language_info": {
      "codemirror_mode": {
        "name": "ipython",
        "version": 3
      },
      "file_extension": ".py",
      "mimetype": "text/x-python",
      "name": "python",
      "nbconvert_exporter": "python",
      "pygments_lexer": "ipython3",
      "version": "3.7.3"
    },
    "colab": {
      "name": "MLBusiness_lesson6.ipynb",
      "provenance": [],
      "collapsed_sections": []
    },
    "widgets": {
      "application/vnd.jupyter.widget-state+json": {
        "4cd29c2246d74f5da9e67ece1a536400": {
          "model_module": "catboost-widget",
          "model_name": "CatboostWidgetModel",
          "model_module_version": "^1.0.0",
          "state": {
            "_dom_classes": [],
            "_model_module": "catboost-widget",
            "_model_module_version": "^1.0.0",
            "_model_name": "CatboostWidgetModel",
            "_view_count": null,
            "_view_module": "catboost-widget",
            "_view_module_version": "^1.0.0",
            "_view_name": "CatboostWidgetView",
            "data": {
              "catboost_info/model-0": {
                "path": "catboost_info/model-0",
                "name": "model-0",
                "content": {
                  "passed_iterations": 199,
                  "total_iterations": 200,
                  "data": {
                    "iterations": [
                      {
                        "learn": [
                          0.6163544651
                        ],
                        "iteration": 0,
                        "passed_time": 0.0275149244,
                        "remaining_time": 5.475469955,
                        "test": [
                          0.6119711472
                        ]
                      },
                      {
                        "learn": [
                          0.5578611995
                        ],
                        "iteration": 1,
                        "passed_time": 0.05640881022,
                        "remaining_time": 5.584472212,
                        "test": [
                          0.5500731659
                        ]
                      },
                      {
                        "learn": [
                          0.5103123869
                        ],
                        "iteration": 2,
                        "passed_time": 0.08488942813,
                        "remaining_time": 5.574405781,
                        "test": [
                          0.4989278502
                        ]
                      },
                      {
                        "learn": [
                          0.4600513797
                        ],
                        "iteration": 3,
                        "passed_time": 0.1086517412,
                        "remaining_time": 5.32393532,
                        "test": [
                          0.4486515225
                        ]
                      },
                      {
                        "learn": [
                          0.4390933404
                        ],
                        "iteration": 4,
                        "passed_time": 0.1280689813,
                        "remaining_time": 4.99469027,
                        "test": [
                          0.4249774969
                        ]
                      },
                      {
                        "learn": [
                          0.4238354913
                        ],
                        "iteration": 5,
                        "passed_time": 0.1414187078,
                        "remaining_time": 4.572538218,
                        "test": [
                          0.4078371712
                        ]
                      },
                      {
                        "learn": [
                          0.4106328459
                        ],
                        "iteration": 6,
                        "passed_time": 0.1673957493,
                        "remaining_time": 4.615339945,
                        "test": [
                          0.393025293
                        ]
                      },
                      {
                        "learn": [
                          0.3995258875
                        ],
                        "iteration": 7,
                        "passed_time": 0.1892295941,
                        "remaining_time": 4.541510258,
                        "test": [
                          0.3822855231
                        ]
                      },
                      {
                        "learn": [
                          0.3926687177
                        ],
                        "iteration": 8,
                        "passed_time": 0.2052621872,
                        "remaining_time": 4.35611975,
                        "test": [
                          0.3746516379
                        ]
                      },
                      {
                        "learn": [
                          0.3849271153
                        ],
                        "iteration": 9,
                        "passed_time": 0.2343052351,
                        "remaining_time": 4.451799466,
                        "test": [
                          0.365866877
                        ]
                      },
                      {
                        "learn": [
                          0.3775910115
                        ],
                        "iteration": 10,
                        "passed_time": 0.2613931861,
                        "remaining_time": 4.491210198,
                        "test": [
                          0.3587820701
                        ]
                      },
                      {
                        "learn": [
                          0.3718720639
                        ],
                        "iteration": 11,
                        "passed_time": 0.2866797194,
                        "remaining_time": 4.491315604,
                        "test": [
                          0.3527686642
                        ]
                      },
                      {
                        "learn": [
                          0.3670903404
                        ],
                        "iteration": 12,
                        "passed_time": 0.3100627415,
                        "remaining_time": 4.460133282,
                        "test": [
                          0.3480455354
                        ]
                      },
                      {
                        "learn": [
                          0.3615384546
                        ],
                        "iteration": 13,
                        "passed_time": 0.3345910423,
                        "remaining_time": 4.445280991,
                        "test": [
                          0.3422657855
                        ]
                      },
                      {
                        "learn": [
                          0.3590095131
                        ],
                        "iteration": 14,
                        "passed_time": 0.3633167514,
                        "remaining_time": 4.480906601,
                        "test": [
                          0.3392795812
                        ]
                      },
                      {
                        "learn": [
                          0.355529035
                        ],
                        "iteration": 15,
                        "passed_time": 0.3936497659,
                        "remaining_time": 4.526972308,
                        "test": [
                          0.3354959536
                        ]
                      },
                      {
                        "learn": [
                          0.3549754545
                        ],
                        "iteration": 16,
                        "passed_time": 0.4023951382,
                        "remaining_time": 4.331665311,
                        "test": [
                          0.3347771546
                        ]
                      },
                      {
                        "learn": [
                          0.3492456719
                        ],
                        "iteration": 17,
                        "passed_time": 0.4302061152,
                        "remaining_time": 4.349861832,
                        "test": [
                          0.3289187475
                        ]
                      },
                      {
                        "learn": [
                          0.3480545491
                        ],
                        "iteration": 18,
                        "passed_time": 0.4783756761,
                        "remaining_time": 4.557157756,
                        "test": [
                          0.3280002331
                        ]
                      },
                      {
                        "learn": [
                          0.3458148379
                        ],
                        "iteration": 19,
                        "passed_time": 0.5277546775,
                        "remaining_time": 4.749792098,
                        "test": [
                          0.3270077878
                        ]
                      },
                      {
                        "learn": [
                          0.3421032846
                        ],
                        "iteration": 20,
                        "passed_time": 0.5975067695,
                        "remaining_time": 5.093033892,
                        "test": [
                          0.3239899977
                        ]
                      },
                      {
                        "learn": [
                          0.3384961393
                        ],
                        "iteration": 21,
                        "passed_time": 0.647311106,
                        "remaining_time": 5.237335312,
                        "test": [
                          0.320632325
                        ]
                      },
                      {
                        "learn": [
                          0.336350024
                        ],
                        "iteration": 22,
                        "passed_time": 0.7188495913,
                        "remaining_time": 5.53201642,
                        "test": [
                          0.3190390984
                        ]
                      },
                      {
                        "learn": [
                          0.334862336
                        ],
                        "iteration": 23,
                        "passed_time": 0.7588822193,
                        "remaining_time": 5.565136275,
                        "test": [
                          0.3182465486
                        ]
                      },
                      {
                        "learn": [
                          0.3333472974
                        ],
                        "iteration": 24,
                        "passed_time": 0.8287266617,
                        "remaining_time": 5.801086632,
                        "test": [
                          0.317316918
                        ]
                      },
                      {
                        "learn": [
                          0.3317794641
                        ],
                        "iteration": 25,
                        "passed_time": 0.8778591665,
                        "remaining_time": 5.874903653,
                        "test": [
                          0.3173853973
                        ]
                      },
                      {
                        "learn": [
                          0.3307730311
                        ],
                        "iteration": 26,
                        "passed_time": 0.9506593997,
                        "remaining_time": 6.09126208,
                        "test": [
                          0.316866227
                        ]
                      },
                      {
                        "learn": [
                          0.3289598986
                        ],
                        "iteration": 27,
                        "passed_time": 1.003455694,
                        "remaining_time": 6.164084975,
                        "test": [
                          0.3157857137
                        ]
                      },
                      {
                        "learn": [
                          0.3281576146
                        ],
                        "iteration": 28,
                        "passed_time": 1.054362437,
                        "remaining_time": 6.217102644,
                        "test": [
                          0.3150485963
                        ]
                      },
                      {
                        "learn": [
                          0.3275720754
                        ],
                        "iteration": 29,
                        "passed_time": 1.109186895,
                        "remaining_time": 6.285392405,
                        "test": [
                          0.3149046568
                        ]
                      },
                      {
                        "learn": [
                          0.3269516337
                        ],
                        "iteration": 30,
                        "passed_time": 1.15306965,
                        "remaining_time": 6.286089382,
                        "test": [
                          0.3142915619
                        ]
                      },
                      {
                        "learn": [
                          0.3259230958
                        ],
                        "iteration": 31,
                        "passed_time": 1.199824721,
                        "remaining_time": 6.299079786,
                        "test": [
                          0.3139580731
                        ]
                      },
                      {
                        "learn": [
                          0.3250747241
                        ],
                        "iteration": 32,
                        "passed_time": 1.241726758,
                        "remaining_time": 6.283889959,
                        "test": [
                          0.3135226942
                        ]
                      },
                      {
                        "learn": [
                          0.3242464166
                        ],
                        "iteration": 33,
                        "passed_time": 1.291057463,
                        "remaining_time": 6.303398204,
                        "test": [
                          0.3128457206
                        ]
                      },
                      {
                        "learn": [
                          0.3235661877
                        ],
                        "iteration": 34,
                        "passed_time": 1.355405346,
                        "remaining_time": 6.389768061,
                        "test": [
                          0.3123949708
                        ]
                      },
                      {
                        "learn": [
                          0.3223902337
                        ],
                        "iteration": 35,
                        "passed_time": 1.410225892,
                        "remaining_time": 6.424362397,
                        "test": [
                          0.3113389089
                        ]
                      },
                      {
                        "learn": [
                          0.3215790134
                        ],
                        "iteration": 36,
                        "passed_time": 1.467418465,
                        "remaining_time": 6.464573238,
                        "test": [
                          0.3107363755
                        ]
                      },
                      {
                        "learn": [
                          0.3205696794
                        ],
                        "iteration": 37,
                        "passed_time": 1.521354215,
                        "remaining_time": 6.485773232,
                        "test": [
                          0.3107449976
                        ]
                      },
                      {
                        "learn": [
                          0.3194911229
                        ],
                        "iteration": 38,
                        "passed_time": 1.555714086,
                        "remaining_time": 6.422306869,
                        "test": [
                          0.3113786901
                        ]
                      },
                      {
                        "learn": [
                          0.3191466894
                        ],
                        "iteration": 39,
                        "passed_time": 1.593612322,
                        "remaining_time": 6.374449287,
                        "test": [
                          0.3113179418
                        ]
                      },
                      {
                        "learn": [
                          0.3176051049
                        ],
                        "iteration": 40,
                        "passed_time": 1.654980798,
                        "remaining_time": 6.418096267,
                        "test": [
                          0.3093488233
                        ]
                      },
                      {
                        "learn": [
                          0.3173929068
                        ],
                        "iteration": 41,
                        "passed_time": 1.711220386,
                        "remaining_time": 6.437448117,
                        "test": [
                          0.3093198557
                        ]
                      },
                      {
                        "learn": [
                          0.3159387577
                        ],
                        "iteration": 42,
                        "passed_time": 1.7687533,
                        "remaining_time": 6.458006234,
                        "test": [
                          0.3090271907
                        ]
                      },
                      {
                        "learn": [
                          0.3157077845
                        ],
                        "iteration": 43,
                        "passed_time": 1.803464484,
                        "remaining_time": 6.394101353,
                        "test": [
                          0.3089924433
                        ]
                      },
                      {
                        "learn": [
                          0.3153166987
                        ],
                        "iteration": 44,
                        "passed_time": 1.860316973,
                        "remaining_time": 6.407758463,
                        "test": [
                          0.3089139068
                        ]
                      },
                      {
                        "learn": [
                          0.3153166876
                        ],
                        "iteration": 45,
                        "passed_time": 1.866460637,
                        "remaining_time": 6.248585611,
                        "test": [
                          0.3089137179
                        ]
                      },
                      {
                        "learn": [
                          0.3150601155
                        ],
                        "iteration": 46,
                        "passed_time": 1.90387361,
                        "remaining_time": 6.19771622,
                        "test": [
                          0.3089478604
                        ]
                      },
                      {
                        "learn": [
                          0.3150601003
                        ],
                        "iteration": 47,
                        "passed_time": 1.912078512,
                        "remaining_time": 6.054915287,
                        "test": [
                          0.308947836
                        ]
                      },
                      {
                        "learn": [
                          0.3142756035
                        ],
                        "iteration": 48,
                        "passed_time": 1.953708362,
                        "remaining_time": 6.020611482,
                        "test": [
                          0.3084315285
                        ]
                      },
                      {
                        "learn": [
                          0.314244545
                        ],
                        "iteration": 49,
                        "passed_time": 2.022748156,
                        "remaining_time": 6.068244469,
                        "test": [
                          0.3083696806
                        ]
                      },
                      {
                        "learn": [
                          0.3135012363
                        ],
                        "iteration": 50,
                        "passed_time": 2.049748286,
                        "remaining_time": 5.988480288,
                        "test": [
                          0.3082886379
                        ]
                      },
                      {
                        "learn": [
                          0.311992037
                        ],
                        "iteration": 51,
                        "passed_time": 2.104824417,
                        "remaining_time": 5.99065411,
                        "test": [
                          0.3087528187
                        ]
                      },
                      {
                        "learn": [
                          0.3116901426
                        ],
                        "iteration": 52,
                        "passed_time": 2.156492675,
                        "remaining_time": 5.981215534,
                        "test": [
                          0.3085923602
                        ]
                      },
                      {
                        "learn": [
                          0.310570442
                        ],
                        "iteration": 53,
                        "passed_time": 2.217317878,
                        "remaining_time": 5.994970558,
                        "test": [
                          0.3079380771
                        ]
                      },
                      {
                        "learn": [
                          0.3100060135
                        ],
                        "iteration": 54,
                        "passed_time": 2.311830992,
                        "remaining_time": 6.094827161,
                        "test": [
                          0.3074933499
                        ]
                      },
                      {
                        "learn": [
                          0.3083688265
                        ],
                        "iteration": 55,
                        "passed_time": 2.360194397,
                        "remaining_time": 6.069071307,
                        "test": [
                          0.3082022233
                        ]
                      },
                      {
                        "learn": [
                          0.3083583957
                        ],
                        "iteration": 56,
                        "passed_time": 2.374650961,
                        "remaining_time": 5.957457675,
                        "test": [
                          0.308197966
                        ]
                      },
                      {
                        "learn": [
                          0.3070898215
                        ],
                        "iteration": 57,
                        "passed_time": 2.427967518,
                        "remaining_time": 5.944334267,
                        "test": [
                          0.3071805485
                        ]
                      },
                      {
                        "learn": [
                          0.3059324804
                        ],
                        "iteration": 58,
                        "passed_time": 2.478164097,
                        "remaining_time": 5.922392165,
                        "test": [
                          0.3070409816
                        ]
                      },
                      {
                        "learn": [
                          0.3056465861
                        ],
                        "iteration": 59,
                        "passed_time": 2.512918464,
                        "remaining_time": 5.863476417,
                        "test": [
                          0.3071251001
                        ]
                      },
                      {
                        "learn": [
                          0.305077114
                        ],
                        "iteration": 60,
                        "passed_time": 2.564678492,
                        "remaining_time": 5.844103449,
                        "test": [
                          0.3070897496
                        ]
                      },
                      {
                        "learn": [
                          0.30436252
                        ],
                        "iteration": 61,
                        "passed_time": 2.61112099,
                        "remaining_time": 5.811849946,
                        "test": [
                          0.3063744915
                        ]
                      },
                      {
                        "learn": [
                          0.3042304816
                        ],
                        "iteration": 62,
                        "passed_time": 2.658516017,
                        "remaining_time": 5.78121737,
                        "test": [
                          0.3064783769
                        ]
                      },
                      {
                        "learn": [
                          0.303660463
                        ],
                        "iteration": 63,
                        "passed_time": 2.709056366,
                        "remaining_time": 5.756744779,
                        "test": [
                          0.3065763806
                        ]
                      },
                      {
                        "learn": [
                          0.3029518471
                        ],
                        "iteration": 64,
                        "passed_time": 2.778606064,
                        "remaining_time": 5.770951057,
                        "test": [
                          0.3065615597
                        ]
                      },
                      {
                        "learn": [
                          0.3027012536
                        ],
                        "iteration": 65,
                        "passed_time": 2.83628069,
                        "remaining_time": 5.758509281,
                        "test": [
                          0.3064970535
                        ]
                      },
                      {
                        "learn": [
                          0.3019014299
                        ],
                        "iteration": 66,
                        "passed_time": 2.885640859,
                        "remaining_time": 5.728212452,
                        "test": [
                          0.3065847362
                        ]
                      },
                      {
                        "learn": [
                          0.3016227439
                        ],
                        "iteration": 67,
                        "passed_time": 2.928342086,
                        "remaining_time": 5.684428756,
                        "test": [
                          0.3066272003
                        ]
                      },
                      {
                        "learn": [
                          0.3002188698
                        ],
                        "iteration": 68,
                        "passed_time": 2.985825405,
                        "remaining_time": 5.668740987,
                        "test": [
                          0.3066054203
                        ]
                      },
                      {
                        "learn": [
                          0.2997088743
                        ],
                        "iteration": 69,
                        "passed_time": 3.041601356,
                        "remaining_time": 5.648688233,
                        "test": [
                          0.3068495305
                        ]
                      },
                      {
                        "learn": [
                          0.2989744378
                        ],
                        "iteration": 70,
                        "passed_time": 3.081690855,
                        "remaining_time": 5.599128456,
                        "test": [
                          0.3068752318
                        ]
                      },
                      {
                        "learn": [
                          0.2984362727
                        ],
                        "iteration": 71,
                        "passed_time": 3.12755101,
                        "remaining_time": 5.560090685,
                        "test": [
                          0.3069343781
                        ]
                      },
                      {
                        "learn": [
                          0.2982753166
                        ],
                        "iteration": 72,
                        "passed_time": 3.169813273,
                        "remaining_time": 5.514606654,
                        "test": [
                          0.3069388107
                        ]
                      },
                      {
                        "learn": [
                          0.2976215016
                        ],
                        "iteration": 73,
                        "passed_time": 3.254429685,
                        "remaining_time": 5.54132622,
                        "test": [
                          0.3065859821
                        ]
                      },
                      {
                        "learn": [
                          0.2963274406
                        ],
                        "iteration": 74,
                        "passed_time": 3.312607107,
                        "remaining_time": 5.521011846,
                        "test": [
                          0.3062647785
                        ]
                      },
                      {
                        "learn": [
                          0.2957658816
                        ],
                        "iteration": 75,
                        "passed_time": 3.373846993,
                        "remaining_time": 5.504697725,
                        "test": [
                          0.306602566
                        ]
                      },
                      {
                        "learn": [
                          0.2949955653
                        ],
                        "iteration": 76,
                        "passed_time": 3.414384864,
                        "remaining_time": 5.45414725,
                        "test": [
                          0.3065147948
                        ]
                      },
                      {
                        "learn": [
                          0.2945938755
                        ],
                        "iteration": 77,
                        "passed_time": 3.466330986,
                        "remaining_time": 5.421697184,
                        "test": [
                          0.3070673758
                        ]
                      },
                      {
                        "learn": [
                          0.2933939493
                        ],
                        "iteration": 78,
                        "passed_time": 3.519830943,
                        "remaining_time": 5.39113347,
                        "test": [
                          0.307237192
                        ]
                      },
                      {
                        "learn": [
                          0.2926648629
                        ],
                        "iteration": 79,
                        "passed_time": 3.578156027,
                        "remaining_time": 5.367234041,
                        "test": [
                          0.3073004431
                        ]
                      },
                      {
                        "learn": [
                          0.2916591196
                        ],
                        "iteration": 80,
                        "passed_time": 3.636954946,
                        "remaining_time": 5.343180723,
                        "test": [
                          0.3071295149
                        ]
                      },
                      {
                        "learn": [
                          0.2908053368
                        ],
                        "iteration": 81,
                        "passed_time": 3.69276201,
                        "remaining_time": 5.3139746,
                        "test": [
                          0.3069426902
                        ]
                      },
                      {
                        "learn": [
                          0.2892381468
                        ],
                        "iteration": 82,
                        "passed_time": 3.744616606,
                        "remaining_time": 5.278555939,
                        "test": [
                          0.3074780485
                        ]
                      },
                      {
                        "learn": [
                          0.288429234
                        ],
                        "iteration": 83,
                        "passed_time": 3.797872569,
                        "remaining_time": 5.244681167,
                        "test": [
                          0.3064515867
                        ]
                      },
                      {
                        "learn": [
                          0.2867610747
                        ],
                        "iteration": 84,
                        "passed_time": 3.854797992,
                        "remaining_time": 5.21531493,
                        "test": [
                          0.3057810199
                        ]
                      },
                      {
                        "learn": [
                          0.2859923954
                        ],
                        "iteration": 85,
                        "passed_time": 3.899230778,
                        "remaining_time": 5.168747775,
                        "test": [
                          0.3059403799
                        ]
                      },
                      {
                        "learn": [
                          0.2850406772
                        ],
                        "iteration": 86,
                        "passed_time": 3.950710532,
                        "remaining_time": 5.131382645,
                        "test": [
                          0.306212707
                        ]
                      },
                      {
                        "learn": [
                          0.2846377563
                        ],
                        "iteration": 87,
                        "passed_time": 4.009568655,
                        "remaining_time": 5.103087379,
                        "test": [
                          0.3062465916
                        ]
                      },
                      {
                        "learn": [
                          0.2840142078
                        ],
                        "iteration": 88,
                        "passed_time": 4.061115597,
                        "remaining_time": 5.064986868,
                        "test": [
                          0.3060392238
                        ]
                      },
                      {
                        "learn": [
                          0.2828901768
                        ],
                        "iteration": 89,
                        "passed_time": 4.113705345,
                        "remaining_time": 5.027862088,
                        "test": [
                          0.3055209127
                        ]
                      },
                      {
                        "learn": [
                          0.2820299603
                        ],
                        "iteration": 90,
                        "passed_time": 4.165932981,
                        "remaining_time": 4.98996368,
                        "test": [
                          0.3056937604
                        ]
                      },
                      {
                        "learn": [
                          0.2812732059
                        ],
                        "iteration": 91,
                        "passed_time": 4.215139105,
                        "remaining_time": 4.948206775,
                        "test": [
                          0.3054208496
                        ]
                      },
                      {
                        "learn": [
                          0.2800668517
                        ],
                        "iteration": 92,
                        "passed_time": 4.269686891,
                        "remaining_time": 4.912435455,
                        "test": [
                          0.3050086756
                        ]
                      },
                      {
                        "learn": [
                          0.2790857268
                        ],
                        "iteration": 93,
                        "passed_time": 4.328720279,
                        "remaining_time": 4.881322868,
                        "test": [
                          0.3045835035
                        ]
                      },
                      {
                        "learn": [
                          0.2783691316
                        ],
                        "iteration": 94,
                        "passed_time": 4.378085059,
                        "remaining_time": 4.838936118,
                        "test": [
                          0.3045070075
                        ]
                      },
                      {
                        "learn": [
                          0.2773590652
                        ],
                        "iteration": 95,
                        "passed_time": 4.438058577,
                        "remaining_time": 4.807896792,
                        "test": [
                          0.3042113317
                        ]
                      },
                      {
                        "learn": [
                          0.2761585642
                        ],
                        "iteration": 96,
                        "passed_time": 4.491995835,
                        "remaining_time": 4.769851247,
                        "test": [
                          0.3036800224
                        ]
                      },
                      {
                        "learn": [
                          0.2760134184
                        ],
                        "iteration": 97,
                        "passed_time": 4.542308828,
                        "remaining_time": 4.727709189,
                        "test": [
                          0.3037181762
                        ]
                      },
                      {
                        "learn": [
                          0.2754150675
                        ],
                        "iteration": 98,
                        "passed_time": 4.582959273,
                        "remaining_time": 4.675544309,
                        "test": [
                          0.3030527893
                        ]
                      },
                      {
                        "learn": [
                          0.2748630572
                        ],
                        "iteration": 99,
                        "passed_time": 4.624018233,
                        "remaining_time": 4.624018233,
                        "test": [
                          0.3030820581
                        ]
                      },
                      {
                        "learn": [
                          0.2738923042
                        ],
                        "iteration": 100,
                        "passed_time": 4.66116014,
                        "remaining_time": 4.568859939,
                        "test": [
                          0.3028662287
                        ]
                      },
                      {
                        "learn": [
                          0.2727740169
                        ],
                        "iteration": 101,
                        "passed_time": 4.686654723,
                        "remaining_time": 4.502864342,
                        "test": [
                          0.3036794922
                        ]
                      },
                      {
                        "learn": [
                          0.2715132717
                        ],
                        "iteration": 102,
                        "passed_time": 4.713599066,
                        "remaining_time": 4.43902048,
                        "test": [
                          0.3035095763
                        ]
                      },
                      {
                        "learn": [
                          0.2705234749
                        ],
                        "iteration": 103,
                        "passed_time": 4.740879984,
                        "remaining_time": 4.376196909,
                        "test": [
                          0.3036802203
                        ]
                      },
                      {
                        "learn": [
                          0.2695563791
                        ],
                        "iteration": 104,
                        "passed_time": 4.767438181,
                        "remaining_time": 4.313396449,
                        "test": [
                          0.303650863
                        ]
                      },
                      {
                        "learn": [
                          0.2691604862
                        ],
                        "iteration": 105,
                        "passed_time": 4.793988754,
                        "remaining_time": 4.251273046,
                        "test": [
                          0.3036100279
                        ]
                      },
                      {
                        "learn": [
                          0.2689459759
                        ],
                        "iteration": 106,
                        "passed_time": 4.819216201,
                        "remaining_time": 4.188664549,
                        "test": [
                          0.3035635769
                        ]
                      },
                      {
                        "learn": [
                          0.268661781
                        ],
                        "iteration": 107,
                        "passed_time": 4.835859483,
                        "remaining_time": 4.119435856,
                        "test": [
                          0.3036597533
                        ]
                      },
                      {
                        "learn": [
                          0.2680877611
                        ],
                        "iteration": 108,
                        "passed_time": 4.861211933,
                        "remaining_time": 4.05844299,
                        "test": [
                          0.3035345227
                        ]
                      },
                      {
                        "learn": [
                          0.2661078351
                        ],
                        "iteration": 109,
                        "passed_time": 4.886781292,
                        "remaining_time": 3.998275602,
                        "test": [
                          0.3036010045
                        ]
                      },
                      {
                        "learn": [
                          0.2657124882
                        ],
                        "iteration": 110,
                        "passed_time": 4.913845185,
                        "remaining_time": 3.939929923,
                        "test": [
                          0.303558796
                        ]
                      },
                      {
                        "learn": [
                          0.2654454749
                        ],
                        "iteration": 111,
                        "passed_time": 4.943010511,
                        "remaining_time": 3.883793973,
                        "test": [
                          0.3034106287
                        ]
                      },
                      {
                        "learn": [
                          0.2652084158
                        ],
                        "iteration": 112,
                        "passed_time": 4.969515862,
                        "remaining_time": 3.826087434,
                        "test": [
                          0.303094301
                        ]
                      },
                      {
                        "learn": [
                          0.2652043121
                        ],
                        "iteration": 113,
                        "passed_time": 4.992726395,
                        "remaining_time": 3.766442719,
                        "test": [
                          0.3030955907
                        ]
                      },
                      {
                        "learn": [
                          0.2648706318
                        ],
                        "iteration": 114,
                        "passed_time": 5.030186805,
                        "remaining_time": 3.71796416,
                        "test": [
                          0.3033590835
                        ]
                      },
                      {
                        "learn": [
                          0.2642170537
                        ],
                        "iteration": 115,
                        "passed_time": 5.067596401,
                        "remaining_time": 3.669638773,
                        "test": [
                          0.3036303579
                        ]
                      },
                      {
                        "learn": [
                          0.263185721
                        ],
                        "iteration": 116,
                        "passed_time": 5.101255093,
                        "remaining_time": 3.618839083,
                        "test": [
                          0.3029483283
                        ]
                      },
                      {
                        "learn": [
                          0.2617750104
                        ],
                        "iteration": 117,
                        "passed_time": 5.130435722,
                        "remaining_time": 3.565218044,
                        "test": [
                          0.3020012216
                        ]
                      },
                      {
                        "learn": [
                          0.2614990664
                        ],
                        "iteration": 118,
                        "passed_time": 5.158180708,
                        "remaining_time": 3.511030566,
                        "test": [
                          0.3020298599
                        ]
                      },
                      {
                        "learn": [
                          0.2602907311
                        ],
                        "iteration": 119,
                        "passed_time": 5.184333429,
                        "remaining_time": 3.456222286,
                        "test": [
                          0.3022653362
                        ]
                      },
                      {
                        "learn": [
                          0.2594327046
                        ],
                        "iteration": 120,
                        "passed_time": 5.210568227,
                        "remaining_time": 3.401941239,
                        "test": [
                          0.3025611196
                        ]
                      },
                      {
                        "learn": [
                          0.2586127573
                        ],
                        "iteration": 121,
                        "passed_time": 5.239224866,
                        "remaining_time": 3.349668357,
                        "test": [
                          0.3021161294
                        ]
                      },
                      {
                        "learn": [
                          0.2583297474
                        ],
                        "iteration": 122,
                        "passed_time": 5.266783042,
                        "remaining_time": 3.297091823,
                        "test": [
                          0.3018968855
                        ]
                      },
                      {
                        "learn": [
                          0.2578922621
                        ],
                        "iteration": 123,
                        "passed_time": 5.294595643,
                        "remaining_time": 3.245074749,
                        "test": [
                          0.3019999554
                        ]
                      },
                      {
                        "learn": [
                          0.2575150029
                        ],
                        "iteration": 124,
                        "passed_time": 5.325116567,
                        "remaining_time": 3.19506994,
                        "test": [
                          0.3015457856
                        ]
                      },
                      {
                        "learn": [
                          0.2568660639
                        ],
                        "iteration": 125,
                        "passed_time": 5.351022028,
                        "remaining_time": 3.142663731,
                        "test": [
                          0.3013853491
                        ]
                      },
                      {
                        "learn": [
                          0.2556601501
                        ],
                        "iteration": 126,
                        "passed_time": 5.379223681,
                        "remaining_time": 3.091994714,
                        "test": [
                          0.3019503013
                        ]
                      },
                      {
                        "learn": [
                          0.2553244041
                        ],
                        "iteration": 127,
                        "passed_time": 5.40661256,
                        "remaining_time": 3.041219565,
                        "test": [
                          0.3017149766
                        ]
                      },
                      {
                        "learn": [
                          0.2546252906
                        ],
                        "iteration": 128,
                        "passed_time": 5.436477209,
                        "remaining_time": 2.992169626,
                        "test": [
                          0.3019441803
                        ]
                      },
                      {
                        "learn": [
                          0.254585304
                        ],
                        "iteration": 129,
                        "passed_time": 5.462622587,
                        "remaining_time": 2.941412162,
                        "test": [
                          0.3019451336
                        ]
                      },
                      {
                        "learn": [
                          0.2542786912
                        ],
                        "iteration": 130,
                        "passed_time": 5.488013118,
                        "remaining_time": 2.890632864,
                        "test": [
                          0.3018467166
                        ]
                      },
                      {
                        "learn": [
                          0.253877017
                        ],
                        "iteration": 131,
                        "passed_time": 5.515709992,
                        "remaining_time": 2.841426359,
                        "test": [
                          0.3016253408
                        ]
                      },
                      {
                        "learn": [
                          0.2536137516
                        ],
                        "iteration": 132,
                        "passed_time": 5.542736472,
                        "remaining_time": 2.792205591,
                        "test": [
                          0.3018144027
                        ]
                      },
                      {
                        "learn": [
                          0.2526211002
                        ],
                        "iteration": 133,
                        "passed_time": 5.571014479,
                        "remaining_time": 2.743932504,
                        "test": [
                          0.3019242859
                        ]
                      },
                      {
                        "learn": [
                          0.2522615434
                        ],
                        "iteration": 134,
                        "passed_time": 5.595870024,
                        "remaining_time": 2.694307789,
                        "test": [
                          0.3021014862
                        ]
                      },
                      {
                        "learn": [
                          0.2511731258
                        ],
                        "iteration": 135,
                        "passed_time": 5.625318243,
                        "remaining_time": 2.647208585,
                        "test": [
                          0.3027849862
                        ]
                      },
                      {
                        "learn": [
                          0.2510928573
                        ],
                        "iteration": 136,
                        "passed_time": 5.64365421,
                        "remaining_time": 2.595257045,
                        "test": [
                          0.3027856368
                        ]
                      },
                      {
                        "learn": [
                          0.2497294037
                        ],
                        "iteration": 137,
                        "passed_time": 5.67109128,
                        "remaining_time": 2.54788159,
                        "test": [
                          0.3022356966
                        ]
                      },
                      {
                        "learn": [
                          0.2488843922
                        ],
                        "iteration": 138,
                        "passed_time": 5.699453849,
                        "remaining_time": 2.501199171,
                        "test": [
                          0.3028430057
                        ]
                      },
                      {
                        "learn": [
                          0.2482721912
                        ],
                        "iteration": 139,
                        "passed_time": 5.725442544,
                        "remaining_time": 2.45376109,
                        "test": [
                          0.3028081862
                        ]
                      },
                      {
                        "learn": [
                          0.2477490946
                        ],
                        "iteration": 140,
                        "passed_time": 5.750219946,
                        "remaining_time": 2.406120403,
                        "test": [
                          0.3025793124
                        ]
                      },
                      {
                        "learn": [
                          0.2467715102
                        ],
                        "iteration": 141,
                        "passed_time": 5.777934112,
                        "remaining_time": 2.360001257,
                        "test": [
                          0.302204976
                        ]
                      },
                      {
                        "learn": [
                          0.2464338953
                        ],
                        "iteration": 142,
                        "passed_time": 5.803879369,
                        "remaining_time": 2.313434434,
                        "test": [
                          0.3020492769
                        ]
                      },
                      {
                        "learn": [
                          0.2456075244
                        ],
                        "iteration": 143,
                        "passed_time": 5.833053396,
                        "remaining_time": 2.268409654,
                        "test": [
                          0.301919982
                        ]
                      },
                      {
                        "learn": [
                          0.2450565627
                        ],
                        "iteration": 144,
                        "passed_time": 5.861147687,
                        "remaining_time": 2.22319395,
                        "test": [
                          0.3016050361
                        ]
                      },
                      {
                        "learn": [
                          0.2450512937
                        ],
                        "iteration": 145,
                        "passed_time": 5.885856629,
                        "remaining_time": 2.176960671,
                        "test": [
                          0.3016121237
                        ]
                      },
                      {
                        "learn": [
                          0.2443186113
                        ],
                        "iteration": 146,
                        "passed_time": 5.91037503,
                        "remaining_time": 2.130951541,
                        "test": [
                          0.3013675218
                        ]
                      },
                      {
                        "learn": [
                          0.2436848914
                        ],
                        "iteration": 147,
                        "passed_time": 5.936553138,
                        "remaining_time": 2.085815967,
                        "test": [
                          0.3012450562
                        ]
                      },
                      {
                        "learn": [
                          0.243135702
                        ],
                        "iteration": 148,
                        "passed_time": 5.962773094,
                        "remaining_time": 2.04094918,
                        "test": [
                          0.3017488882
                        ]
                      },
                      {
                        "learn": [
                          0.242509467
                        ],
                        "iteration": 149,
                        "passed_time": 5.989325535,
                        "remaining_time": 1.996441845,
                        "test": [
                          0.3016531197
                        ]
                      },
                      {
                        "learn": [
                          0.2422187738
                        ],
                        "iteration": 150,
                        "passed_time": 6.02490811,
                        "remaining_time": 1.955102632,
                        "test": [
                          0.3013364717
                        ]
                      },
                      {
                        "learn": [
                          0.2420481021
                        ],
                        "iteration": 151,
                        "passed_time": 6.057956075,
                        "remaining_time": 1.91303876,
                        "test": [
                          0.3012953523
                        ]
                      },
                      {
                        "learn": [
                          0.241753114
                        ],
                        "iteration": 152,
                        "passed_time": 6.09124931,
                        "remaining_time": 1.871168089,
                        "test": [
                          0.3013764984
                        ]
                      },
                      {
                        "learn": [
                          0.2408461644
                        ],
                        "iteration": 153,
                        "passed_time": 6.123473095,
                        "remaining_time": 1.829089366,
                        "test": [
                          0.3021473517
                        ]
                      },
                      {
                        "learn": [
                          0.239969496
                        ],
                        "iteration": 154,
                        "passed_time": 6.152752775,
                        "remaining_time": 1.786283064,
                        "test": [
                          0.3035933706
                        ]
                      },
                      {
                        "learn": [
                          0.2391923159
                        ],
                        "iteration": 155,
                        "passed_time": 6.181566188,
                        "remaining_time": 1.743518668,
                        "test": [
                          0.304312985
                        ]
                      },
                      {
                        "learn": [
                          0.2387247629
                        ],
                        "iteration": 156,
                        "passed_time": 6.210678471,
                        "remaining_time": 1.701013849,
                        "test": [
                          0.3045263567
                        ]
                      },
                      {
                        "learn": [
                          0.2381581611
                        ],
                        "iteration": 157,
                        "passed_time": 6.238214227,
                        "remaining_time": 1.658259478,
                        "test": [
                          0.304630448
                        ]
                      },
                      {
                        "learn": [
                          0.2373458682
                        ],
                        "iteration": 158,
                        "passed_time": 6.268005735,
                        "remaining_time": 1.616278208,
                        "test": [
                          0.3047246152
                        ]
                      },
                      {
                        "learn": [
                          0.2368507215
                        ],
                        "iteration": 159,
                        "passed_time": 6.294841587,
                        "remaining_time": 1.573710397,
                        "test": [
                          0.3052091235
                        ]
                      },
                      {
                        "learn": [
                          0.2359507503
                        ],
                        "iteration": 160,
                        "passed_time": 6.323982504,
                        "remaining_time": 1.531896383,
                        "test": [
                          0.3050077891
                        ]
                      },
                      {
                        "learn": [
                          0.2353383469
                        ],
                        "iteration": 161,
                        "passed_time": 6.351944465,
                        "remaining_time": 1.489962282,
                        "test": [
                          0.3055186009
                        ]
                      },
                      {
                        "learn": [
                          0.2347962754
                        ],
                        "iteration": 162,
                        "passed_time": 6.37941866,
                        "remaining_time": 1.448088898,
                        "test": [
                          0.3057779115
                        ]
                      },
                      {
                        "learn": [
                          0.2345477932
                        ],
                        "iteration": 163,
                        "passed_time": 6.406877826,
                        "remaining_time": 1.406387815,
                        "test": [
                          0.3055789442
                        ]
                      },
                      {
                        "learn": [
                          0.2340427787
                        ],
                        "iteration": 164,
                        "passed_time": 6.435040472,
                        "remaining_time": 1.365008585,
                        "test": [
                          0.3055924268
                        ]
                      },
                      {
                        "learn": [
                          0.2336448199
                        ],
                        "iteration": 165,
                        "passed_time": 6.462254184,
                        "remaining_time": 1.32359423,
                        "test": [
                          0.3055715599
                        ]
                      },
                      {
                        "learn": [
                          0.2326173447
                        ],
                        "iteration": 166,
                        "passed_time": 6.491134069,
                        "remaining_time": 1.282679187,
                        "test": [
                          0.3053851235
                        ]
                      },
                      {
                        "learn": [
                          0.2326132463
                        ],
                        "iteration": 167,
                        "passed_time": 6.51633859,
                        "remaining_time": 1.24120735,
                        "test": [
                          0.3053898809
                        ]
                      },
                      {
                        "learn": [
                          0.2322864291
                        ],
                        "iteration": 168,
                        "passed_time": 6.546008475,
                        "remaining_time": 1.200747117,
                        "test": [
                          0.3056352285
                        ]
                      },
                      {
                        "learn": [
                          0.2321616324
                        ],
                        "iteration": 169,
                        "passed_time": 6.570467718,
                        "remaining_time": 1.159494303,
                        "test": [
                          0.3056013
                        ]
                      },
                      {
                        "learn": [
                          0.2320370795
                        ],
                        "iteration": 170,
                        "passed_time": 6.598763619,
                        "remaining_time": 1.119088567,
                        "test": [
                          0.3057093669
                        ]
                      },
                      {
                        "learn": [
                          0.2303594048
                        ],
                        "iteration": 171,
                        "passed_time": 6.625881831,
                        "remaining_time": 1.078631926,
                        "test": [
                          0.3053805724
                        ]
                      },
                      {
                        "learn": [
                          0.2296179436
                        ],
                        "iteration": 172,
                        "passed_time": 6.654564548,
                        "remaining_time": 1.038573658,
                        "test": [
                          0.3053497271
                        ]
                      },
                      {
                        "learn": [
                          0.2286488882
                        ],
                        "iteration": 173,
                        "passed_time": 6.683219808,
                        "remaining_time": 0.9986420402,
                        "test": [
                          0.3050234053
                        ]
                      },
                      {
                        "learn": [
                          0.2280174392
                        ],
                        "iteration": 174,
                        "passed_time": 6.710253304,
                        "remaining_time": 0.9586076148,
                        "test": [
                          0.305500392
                        ]
                      },
                      {
                        "learn": [
                          0.2279813518
                        ],
                        "iteration": 175,
                        "passed_time": 6.733405287,
                        "remaining_time": 0.9181916301,
                        "test": [
                          0.3054962142
                        ]
                      },
                      {
                        "learn": [
                          0.2272894607
                        ],
                        "iteration": 176,
                        "passed_time": 6.758307151,
                        "remaining_time": 0.8781981043,
                        "test": [
                          0.305467574
                        ]
                      },
                      {
                        "learn": [
                          0.2270062914
                        ],
                        "iteration": 177,
                        "passed_time": 6.78512129,
                        "remaining_time": 0.8386104965,
                        "test": [
                          0.3057258526
                        ]
                      },
                      {
                        "learn": [
                          0.2264075598
                        ],
                        "iteration": 178,
                        "passed_time": 6.812464946,
                        "remaining_time": 0.799227731,
                        "test": [
                          0.3053449711
                        ]
                      },
                      {
                        "learn": [
                          0.2259018945
                        ],
                        "iteration": 179,
                        "passed_time": 6.837528003,
                        "remaining_time": 0.7597253337,
                        "test": [
                          0.3058311683
                        ]
                      },
                      {
                        "learn": [
                          0.2249866762
                        ],
                        "iteration": 180,
                        "passed_time": 6.862511105,
                        "remaining_time": 0.7203740939,
                        "test": [
                          0.3055160345
                        ]
                      },
                      {
                        "learn": [
                          0.2245887358
                        ],
                        "iteration": 181,
                        "passed_time": 6.885006683,
                        "remaining_time": 0.6809347269,
                        "test": [
                          0.30539834
                        ]
                      },
                      {
                        "learn": [
                          0.2243606569
                        ],
                        "iteration": 182,
                        "passed_time": 6.910495311,
                        "remaining_time": 0.6419585808,
                        "test": [
                          0.3055081111
                        ]
                      },
                      {
                        "learn": [
                          0.224237071
                        ],
                        "iteration": 183,
                        "passed_time": 6.937063911,
                        "remaining_time": 0.6032229488,
                        "test": [
                          0.3055762295
                        ]
                      },
                      {
                        "learn": [
                          0.22419646
                        ],
                        "iteration": 184,
                        "passed_time": 6.959497814,
                        "remaining_time": 0.5642836066,
                        "test": [
                          0.3055655223
                        ]
                      },
                      {
                        "learn": [
                          0.2240160721
                        ],
                        "iteration": 185,
                        "passed_time": 6.985982555,
                        "remaining_time": 0.525826644,
                        "test": [
                          0.30574446
                        ]
                      },
                      {
                        "learn": [
                          0.2235439813
                        ],
                        "iteration": 186,
                        "passed_time": 7.012823032,
                        "remaining_time": 0.4875224568,
                        "test": [
                          0.3057709043
                        ]
                      },
                      {
                        "learn": [
                          0.2221358566
                        ],
                        "iteration": 187,
                        "passed_time": 7.060255021,
                        "remaining_time": 0.4506545758,
                        "test": [
                          0.305482433
                        ]
                      },
                      {
                        "learn": [
                          0.221830787
                        ],
                        "iteration": 188,
                        "passed_time": 7.084922482,
                        "remaining_time": 0.4123499857,
                        "test": [
                          0.3057381571
                        ]
                      },
                      {
                        "learn": [
                          0.2213299341
                        ],
                        "iteration": 189,
                        "passed_time": 7.126123681,
                        "remaining_time": 0.3750591411,
                        "test": [
                          0.3058956044
                        ]
                      },
                      {
                        "learn": [
                          0.2210047675
                        ],
                        "iteration": 190,
                        "passed_time": 7.152260995,
                        "remaining_time": 0.3370175338,
                        "test": [
                          0.306284896
                        ]
                      },
                      {
                        "learn": [
                          0.2205196816
                        ],
                        "iteration": 191,
                        "passed_time": 7.180600761,
                        "remaining_time": 0.2991916984,
                        "test": [
                          0.306232323
                        ]
                      },
                      {
                        "learn": [
                          0.2203476647
                        ],
                        "iteration": 192,
                        "passed_time": 7.208561666,
                        "remaining_time": 0.2614504231,
                        "test": [
                          0.3062063618
                        ]
                      },
                      {
                        "learn": [
                          0.2198992566
                        ],
                        "iteration": 193,
                        "passed_time": 7.236036003,
                        "remaining_time": 0.2237949279,
                        "test": [
                          0.3060564595
                        ]
                      },
                      {
                        "learn": [
                          0.2197384185
                        ],
                        "iteration": 194,
                        "passed_time": 7.265778543,
                        "remaining_time": 0.1863020139,
                        "test": [
                          0.3060171961
                        ]
                      },
                      {
                        "learn": [
                          0.2192434182
                        ],
                        "iteration": 195,
                        "passed_time": 7.292093493,
                        "remaining_time": 0.1488182345,
                        "test": [
                          0.3062314815
                        ]
                      },
                      {
                        "learn": [
                          0.2188287221
                        ],
                        "iteration": 196,
                        "passed_time": 7.31457216,
                        "remaining_time": 0.1113894238,
                        "test": [
                          0.306236893
                        ]
                      },
                      {
                        "learn": [
                          0.2185619294
                        ],
                        "iteration": 197,
                        "passed_time": 7.339486256,
                        "remaining_time": 0.07413622481,
                        "test": [
                          0.3059726871
                        ]
                      },
                      {
                        "learn": [
                          0.2181909392
                        ],
                        "iteration": 198,
                        "passed_time": 7.363209184,
                        "remaining_time": 0.03700105117,
                        "test": [
                          0.3060443642
                        ]
                      },
                      {
                        "learn": [
                          0.2179889922
                        ],
                        "iteration": 199,
                        "passed_time": 7.388067539,
                        "remaining_time": 0,
                        "test": [
                          0.3069744039
                        ]
                      }
                    ],
                    "meta": {
                      "test_sets": [
                        "test"
                      ],
                      "test_metrics": [
                        {
                          "best_value": "Min",
                          "name": "Logloss"
                        }
                      ],
                      "learn_metrics": [
                        {
                          "best_value": "Min",
                          "name": "Logloss"
                        }
                      ],
                      "launch_mode": "Train",
                      "parameters": "",
                      "iteration_count": 200,
                      "learn_sets": [
                        "learn"
                      ],
                      "name": "experiment"
                    }
                  }
                }
              },
              "catboost_info/model-1": {
                "path": "catboost_info/model-1",
                "name": "model-1",
                "content": {
                  "passed_iterations": 199,
                  "total_iterations": 200,
                  "data": {
                    "iterations": [
                      {
                        "learn": [
                          0.6217432808
                        ],
                        "iteration": 0,
                        "passed_time": 0.02394066419,
                        "remaining_time": 4.764192174,
                        "test": [
                          0.6150711065
                        ]
                      },
                      {
                        "learn": [
                          0.5589750218
                        ],
                        "iteration": 1,
                        "passed_time": 0.05004614537,
                        "remaining_time": 4.954568391,
                        "test": [
                          0.5479602345
                        ]
                      },
                      {
                        "learn": [
                          0.525583581
                        ],
                        "iteration": 2,
                        "passed_time": 0.05924182389,
                        "remaining_time": 3.890213102,
                        "test": [
                          0.5112430778
                        ]
                      },
                      {
                        "learn": [
                          0.4876394866
                        ],
                        "iteration": 3,
                        "passed_time": 0.08458413017,
                        "remaining_time": 4.144622378,
                        "test": [
                          0.4713307711
                        ]
                      },
                      {
                        "learn": [
                          0.4567118609
                        ],
                        "iteration": 4,
                        "passed_time": 0.107763645,
                        "remaining_time": 4.202782154,
                        "test": [
                          0.4389145452
                        ]
                      },
                      {
                        "learn": [
                          0.4261354241
                        ],
                        "iteration": 5,
                        "passed_time": 0.1319823954,
                        "remaining_time": 4.267430785,
                        "test": [
                          0.4074035667
                        ]
                      },
                      {
                        "learn": [
                          0.4134896196
                        ],
                        "iteration": 6,
                        "passed_time": 0.1447798686,
                        "remaining_time": 3.991787806,
                        "test": [
                          0.3934018968
                        ]
                      },
                      {
                        "learn": [
                          0.403128711
                        ],
                        "iteration": 7,
                        "passed_time": 0.1719476247,
                        "remaining_time": 4.126742993,
                        "test": [
                          0.3827926751
                        ]
                      },
                      {
                        "learn": [
                          0.3922808558
                        ],
                        "iteration": 8,
                        "passed_time": 0.2039665227,
                        "remaining_time": 4.328622871,
                        "test": [
                          0.370196453
                        ]
                      },
                      {
                        "learn": [
                          0.3835399756
                        ],
                        "iteration": 9,
                        "passed_time": 0.2310783599,
                        "remaining_time": 4.390488839,
                        "test": [
                          0.3625387757
                        ]
                      },
                      {
                        "learn": [
                          0.3745368696
                        ],
                        "iteration": 10,
                        "passed_time": 0.2568904899,
                        "remaining_time": 4.413845689,
                        "test": [
                          0.3538176672
                        ]
                      },
                      {
                        "learn": [
                          0.3678564455
                        ],
                        "iteration": 11,
                        "passed_time": 0.2849830115,
                        "remaining_time": 4.464733847,
                        "test": [
                          0.347415724
                        ]
                      },
                      {
                        "learn": [
                          0.3654989354
                        ],
                        "iteration": 12,
                        "passed_time": 0.2936519261,
                        "remaining_time": 4.224070014,
                        "test": [
                          0.3446753074
                        ]
                      },
                      {
                        "learn": [
                          0.3607851256
                        ],
                        "iteration": 13,
                        "passed_time": 0.3416135582,
                        "remaining_time": 4.53858013,
                        "test": [
                          0.339970148
                        ]
                      },
                      {
                        "learn": [
                          0.3571581351
                        ],
                        "iteration": 14,
                        "passed_time": 0.3705856481,
                        "remaining_time": 4.570556326,
                        "test": [
                          0.3357003126
                        ]
                      },
                      {
                        "learn": [
                          0.3537442883
                        ],
                        "iteration": 15,
                        "passed_time": 0.411935008,
                        "remaining_time": 4.737252593,
                        "test": [
                          0.3323229198
                        ]
                      },
                      {
                        "learn": [
                          0.3503181417
                        ],
                        "iteration": 16,
                        "passed_time": 0.4403725315,
                        "remaining_time": 4.74048078,
                        "test": [
                          0.3296276002
                        ]
                      },
                      {
                        "learn": [
                          0.3478397011
                        ],
                        "iteration": 17,
                        "passed_time": 0.4679142462,
                        "remaining_time": 4.731132934,
                        "test": [
                          0.3281503603
                        ]
                      },
                      {
                        "learn": [
                          0.3442976481
                        ],
                        "iteration": 18,
                        "passed_time": 0.4935944882,
                        "remaining_time": 4.702136967,
                        "test": [
                          0.3252865897
                        ]
                      },
                      {
                        "learn": [
                          0.3418385216
                        ],
                        "iteration": 19,
                        "passed_time": 0.5215121689,
                        "remaining_time": 4.69360952,
                        "test": [
                          0.32319603
                        ]
                      },
                      {
                        "learn": [
                          0.3392390537
                        ],
                        "iteration": 20,
                        "passed_time": 0.5489630823,
                        "remaining_time": 4.679256749,
                        "test": [
                          0.3216319826
                        ]
                      },
                      {
                        "learn": [
                          0.3375913903
                        ],
                        "iteration": 21,
                        "passed_time": 0.5809069427,
                        "remaining_time": 4.700065264,
                        "test": [
                          0.3208752331
                        ]
                      },
                      {
                        "learn": [
                          0.3369359755
                        ],
                        "iteration": 22,
                        "passed_time": 0.6072283515,
                        "remaining_time": 4.673018183,
                        "test": [
                          0.3206825273
                        ]
                      },
                      {
                        "learn": [
                          0.3350972349
                        ],
                        "iteration": 23,
                        "passed_time": 0.6352902218,
                        "remaining_time": 4.65879496,
                        "test": [
                          0.3198158602
                        ]
                      },
                      {
                        "learn": [
                          0.3305869915
                        ],
                        "iteration": 24,
                        "passed_time": 0.6616629053,
                        "remaining_time": 4.631640337,
                        "test": [
                          0.3161744832
                        ]
                      },
                      {
                        "learn": [
                          0.3298827092
                        ],
                        "iteration": 25,
                        "passed_time": 0.6887116352,
                        "remaining_time": 4.609070174,
                        "test": [
                          0.3155056136
                        ]
                      },
                      {
                        "learn": [
                          0.328005778
                        ],
                        "iteration": 26,
                        "passed_time": 0.7176322259,
                        "remaining_time": 4.59816204,
                        "test": [
                          0.3143330464
                        ]
                      },
                      {
                        "learn": [
                          0.3272370537
                        ],
                        "iteration": 27,
                        "passed_time": 0.7465114704,
                        "remaining_time": 4.585713318,
                        "test": [
                          0.3140020921
                        ]
                      },
                      {
                        "learn": [
                          0.3268857381
                        ],
                        "iteration": 28,
                        "passed_time": 0.7688163061,
                        "remaining_time": 4.533365116,
                        "test": [
                          0.3140068263
                        ]
                      },
                      {
                        "learn": [
                          0.3261303195
                        ],
                        "iteration": 29,
                        "passed_time": 0.7952373647,
                        "remaining_time": 4.506345066,
                        "test": [
                          0.3138825822
                        ]
                      },
                      {
                        "learn": [
                          0.3253890967
                        ],
                        "iteration": 30,
                        "passed_time": 0.8239749582,
                        "remaining_time": 4.491992514,
                        "test": [
                          0.3135386405
                        ]
                      },
                      {
                        "learn": [
                          0.3242519967
                        ],
                        "iteration": 31,
                        "passed_time": 0.843202941,
                        "remaining_time": 4.42681544,
                        "test": [
                          0.3136076041
                        ]
                      },
                      {
                        "learn": [
                          0.3236739015
                        ],
                        "iteration": 32,
                        "passed_time": 0.8686968575,
                        "remaining_time": 4.396132582,
                        "test": [
                          0.3133657809
                        ]
                      },
                      {
                        "learn": [
                          0.3222038477
                        ],
                        "iteration": 33,
                        "passed_time": 0.8926382504,
                        "remaining_time": 4.358174987,
                        "test": [
                          0.3126566686
                        ]
                      },
                      {
                        "learn": [
                          0.32163045
                        ],
                        "iteration": 34,
                        "passed_time": 0.9169110383,
                        "remaining_time": 4.322580609,
                        "test": [
                          0.3124172231
                        ]
                      },
                      {
                        "learn": [
                          0.3204347574
                        ],
                        "iteration": 35,
                        "passed_time": 0.9447808826,
                        "remaining_time": 4.304001798,
                        "test": [
                          0.3119748759
                        ]
                      },
                      {
                        "learn": [
                          0.3189341427
                        ],
                        "iteration": 36,
                        "passed_time": 0.9714739513,
                        "remaining_time": 4.279736596,
                        "test": [
                          0.3111155759
                        ]
                      },
                      {
                        "learn": [
                          0.3166760998
                        ],
                        "iteration": 37,
                        "passed_time": 0.9963657145,
                        "remaining_time": 4.247664362,
                        "test": [
                          0.3103008867
                        ]
                      },
                      {
                        "learn": [
                          0.3162351726
                        ],
                        "iteration": 38,
                        "passed_time": 1.019955683,
                        "remaining_time": 4.210586279,
                        "test": [
                          0.310291691
                        ]
                      },
                      {
                        "learn": [
                          0.316083628
                        ],
                        "iteration": 39,
                        "passed_time": 1.033198213,
                        "remaining_time": 4.132792851,
                        "test": [
                          0.3101263555
                        ]
                      },
                      {
                        "learn": [
                          0.3160343311
                        ],
                        "iteration": 40,
                        "passed_time": 1.046123715,
                        "remaining_time": 4.056918798,
                        "test": [
                          0.31015124
                        ]
                      },
                      {
                        "learn": [
                          0.3143378612
                        ],
                        "iteration": 41,
                        "passed_time": 1.073449094,
                        "remaining_time": 4.038213258,
                        "test": [
                          0.3090853533
                        ]
                      },
                      {
                        "learn": [
                          0.3142936871
                        ],
                        "iteration": 42,
                        "passed_time": 1.085156735,
                        "remaining_time": 3.962083895,
                        "test": [
                          0.3091576601
                        ]
                      },
                      {
                        "learn": [
                          0.314159209
                        ],
                        "iteration": 43,
                        "passed_time": 1.107140127,
                        "remaining_time": 3.925314997,
                        "test": [
                          0.3091353401
                        ]
                      },
                      {
                        "learn": [
                          0.3138994294
                        ],
                        "iteration": 44,
                        "passed_time": 1.130353653,
                        "remaining_time": 3.893440359,
                        "test": [
                          0.3090785891
                        ]
                      },
                      {
                        "learn": [
                          0.3133056641
                        ],
                        "iteration": 45,
                        "passed_time": 1.155508838,
                        "remaining_time": 3.868442632,
                        "test": [
                          0.3091893001
                        ]
                      },
                      {
                        "learn": [
                          0.3121418517
                        ],
                        "iteration": 46,
                        "passed_time": 1.183554742,
                        "remaining_time": 3.852848415,
                        "test": [
                          0.3087755277
                        ]
                      },
                      {
                        "learn": [
                          0.3115252923
                        ],
                        "iteration": 47,
                        "passed_time": 1.211403367,
                        "remaining_time": 3.836110662,
                        "test": [
                          0.3084701537
                        ]
                      },
                      {
                        "learn": [
                          0.3108721245
                        ],
                        "iteration": 48,
                        "passed_time": 1.233321585,
                        "remaining_time": 3.800644069,
                        "test": [
                          0.308272869
                        ]
                      },
                      {
                        "learn": [
                          0.310620498
                        ],
                        "iteration": 49,
                        "passed_time": 1.25519765,
                        "remaining_time": 3.765592949,
                        "test": [
                          0.3083690578
                        ]
                      },
                      {
                        "learn": [
                          0.3106182317
                        ],
                        "iteration": 50,
                        "passed_time": 1.263837496,
                        "remaining_time": 3.692387979,
                        "test": [
                          0.3083686793
                        ]
                      },
                      {
                        "learn": [
                          0.3105322627
                        ],
                        "iteration": 51,
                        "passed_time": 1.288440957,
                        "remaining_time": 3.667101185,
                        "test": [
                          0.3082253209
                        ]
                      },
                      {
                        "learn": [
                          0.3102962437
                        ],
                        "iteration": 52,
                        "passed_time": 1.327901854,
                        "remaining_time": 3.68304854,
                        "test": [
                          0.3083426724
                        ]
                      },
                      {
                        "learn": [
                          0.3098054883
                        ],
                        "iteration": 53,
                        "passed_time": 1.359381474,
                        "remaining_time": 3.675364727,
                        "test": [
                          0.3082120802
                        ]
                      },
                      {
                        "learn": [
                          0.3096945199
                        ],
                        "iteration": 54,
                        "passed_time": 1.385289284,
                        "remaining_time": 3.652126295,
                        "test": [
                          0.3082252713
                        ]
                      },
                      {
                        "learn": [
                          0.3087697353
                        ],
                        "iteration": 55,
                        "passed_time": 1.425111325,
                        "remaining_time": 3.66457198,
                        "test": [
                          0.3081030292
                        ]
                      },
                      {
                        "learn": [
                          0.3081213331
                        ],
                        "iteration": 56,
                        "passed_time": 1.453298652,
                        "remaining_time": 3.645994864,
                        "test": [
                          0.3074748866
                        ]
                      },
                      {
                        "learn": [
                          0.3071915164
                        ],
                        "iteration": 57,
                        "passed_time": 1.486240232,
                        "remaining_time": 3.638726085,
                        "test": [
                          0.3071604841
                        ]
                      },
                      {
                        "learn": [
                          0.3062113877
                        ],
                        "iteration": 58,
                        "passed_time": 1.511977725,
                        "remaining_time": 3.613370496,
                        "test": [
                          0.3067656461
                        ]
                      },
                      {
                        "learn": [
                          0.3060929813
                        ],
                        "iteration": 59,
                        "passed_time": 1.532570206,
                        "remaining_time": 3.575997148,
                        "test": [
                          0.3068137164
                        ]
                      },
                      {
                        "learn": [
                          0.3060774564
                        ],
                        "iteration": 60,
                        "passed_time": 1.558923373,
                        "remaining_time": 3.552300801,
                        "test": [
                          0.3068063274
                        ]
                      },
                      {
                        "learn": [
                          0.3052188768
                        ],
                        "iteration": 61,
                        "passed_time": 1.58370624,
                        "remaining_time": 3.525023566,
                        "test": [
                          0.306482324
                        ]
                      },
                      {
                        "learn": [
                          0.3050169844
                        ],
                        "iteration": 62,
                        "passed_time": 1.608338029,
                        "remaining_time": 3.497496983,
                        "test": [
                          0.3062940666
                        ]
                      },
                      {
                        "learn": [
                          0.3041866368
                        ],
                        "iteration": 63,
                        "passed_time": 1.633857501,
                        "remaining_time": 3.471947189,
                        "test": [
                          0.3064366149
                        ]
                      },
                      {
                        "learn": [
                          0.3038482392
                        ],
                        "iteration": 64,
                        "passed_time": 1.660141067,
                        "remaining_time": 3.447985293,
                        "test": [
                          0.306456399
                        ]
                      },
                      {
                        "learn": [
                          0.3038430385
                        ],
                        "iteration": 65,
                        "passed_time": 1.671366788,
                        "remaining_time": 3.393381055,
                        "test": [
                          0.3064585516
                        ]
                      },
                      {
                        "learn": [
                          0.3033818485
                        ],
                        "iteration": 66,
                        "passed_time": 1.694648719,
                        "remaining_time": 3.364004174,
                        "test": [
                          0.3065162496
                        ]
                      },
                      {
                        "learn": [
                          0.302796792
                        ],
                        "iteration": 67,
                        "passed_time": 1.718942644,
                        "remaining_time": 3.336771014,
                        "test": [
                          0.3063312604
                        ]
                      },
                      {
                        "learn": [
                          0.3026292182
                        ],
                        "iteration": 68,
                        "passed_time": 1.738705735,
                        "remaining_time": 3.301021033,
                        "test": [
                          0.3063432339
                        ]
                      },
                      {
                        "learn": [
                          0.3021959244
                        ],
                        "iteration": 69,
                        "passed_time": 1.791172106,
                        "remaining_time": 3.326462483,
                        "test": [
                          0.3064707609
                        ]
                      },
                      {
                        "learn": [
                          0.3018015309
                        ],
                        "iteration": 70,
                        "passed_time": 1.817485536,
                        "remaining_time": 3.30219203,
                        "test": [
                          0.3066426972
                        ]
                      },
                      {
                        "learn": [
                          0.3015090578
                        ],
                        "iteration": 71,
                        "passed_time": 1.844807938,
                        "remaining_time": 3.279658556,
                        "test": [
                          0.3065319802
                        ]
                      },
                      {
                        "learn": [
                          0.3005269254
                        ],
                        "iteration": 72,
                        "passed_time": 1.872392042,
                        "remaining_time": 3.257449169,
                        "test": [
                          0.3065012294
                        ]
                      },
                      {
                        "learn": [
                          0.300235476
                        ],
                        "iteration": 73,
                        "passed_time": 1.896041941,
                        "remaining_time": 3.228395738,
                        "test": [
                          0.3065485254
                        ]
                      },
                      {
                        "learn": [
                          0.2997401527
                        ],
                        "iteration": 74,
                        "passed_time": 1.920121735,
                        "remaining_time": 3.200202892,
                        "test": [
                          0.3065531888
                        ]
                      },
                      {
                        "learn": [
                          0.2989749203
                        ],
                        "iteration": 75,
                        "passed_time": 1.947709455,
                        "remaining_time": 3.177841743,
                        "test": [
                          0.3064818773
                        ]
                      },
                      {
                        "learn": [
                          0.2986051836
                        ],
                        "iteration": 76,
                        "passed_time": 1.971575329,
                        "remaining_time": 3.149399551,
                        "test": [
                          0.306468216
                        ]
                      },
                      {
                        "learn": [
                          0.297888036
                        ],
                        "iteration": 77,
                        "passed_time": 1.998622459,
                        "remaining_time": 3.126050512,
                        "test": [
                          0.3061987351
                        ]
                      },
                      {
                        "learn": [
                          0.297164262
                        ],
                        "iteration": 78,
                        "passed_time": 2.023492608,
                        "remaining_time": 3.099273488,
                        "test": [
                          0.3063483368
                        ]
                      },
                      {
                        "learn": [
                          0.297142857
                        ],
                        "iteration": 79,
                        "passed_time": 2.035065254,
                        "remaining_time": 3.052597881,
                        "test": [
                          0.3063550212
                        ]
                      },
                      {
                        "learn": [
                          0.2967670452
                        ],
                        "iteration": 80,
                        "passed_time": 2.057788795,
                        "remaining_time": 3.023171193,
                        "test": [
                          0.3063598012
                        ]
                      },
                      {
                        "learn": [
                          0.2961663413
                        ],
                        "iteration": 81,
                        "passed_time": 2.082454053,
                        "remaining_time": 2.996702174,
                        "test": [
                          0.3061621729
                        ]
                      },
                      {
                        "learn": [
                          0.2960084761
                        ],
                        "iteration": 82,
                        "passed_time": 2.106035094,
                        "remaining_time": 2.968748266,
                        "test": [
                          0.3062733897
                        ]
                      },
                      {
                        "learn": [
                          0.2958463992
                        ],
                        "iteration": 83,
                        "passed_time": 2.13134444,
                        "remaining_time": 2.943285179,
                        "test": [
                          0.306247446
                        ]
                      },
                      {
                        "learn": [
                          0.2947551787
                        ],
                        "iteration": 84,
                        "passed_time": 2.156072537,
                        "remaining_time": 2.917039315,
                        "test": [
                          0.305389124
                        ]
                      },
                      {
                        "learn": [
                          0.2946078868
                        ],
                        "iteration": 85,
                        "passed_time": 2.178568275,
                        "remaining_time": 2.887869574,
                        "test": [
                          0.30557074
                        ]
                      },
                      {
                        "learn": [
                          0.294547469
                        ],
                        "iteration": 86,
                        "passed_time": 2.202942682,
                        "remaining_time": 2.861293368,
                        "test": [
                          0.3055699415
                        ]
                      },
                      {
                        "learn": [
                          0.2941976696
                        ],
                        "iteration": 87,
                        "passed_time": 2.224118484,
                        "remaining_time": 2.830696252,
                        "test": [
                          0.3053874665
                        ]
                      },
                      {
                        "learn": [
                          0.2938251728
                        ],
                        "iteration": 88,
                        "passed_time": 2.245752904,
                        "remaining_time": 2.800882835,
                        "test": [
                          0.3055015409
                        ]
                      },
                      {
                        "learn": [
                          0.2924179265
                        ],
                        "iteration": 89,
                        "passed_time": 2.272685018,
                        "remaining_time": 2.777726134,
                        "test": [
                          0.3047112073
                        ]
                      },
                      {
                        "learn": [
                          0.2920389641
                        ],
                        "iteration": 90,
                        "passed_time": 2.294905796,
                        "remaining_time": 2.748843207,
                        "test": [
                          0.3043265105
                        ]
                      },
                      {
                        "learn": [
                          0.290132081
                        ],
                        "iteration": 91,
                        "passed_time": 2.319423666,
                        "remaining_time": 2.722801695,
                        "test": [
                          0.304018011
                        ]
                      },
                      {
                        "learn": [
                          0.2896048844
                        ],
                        "iteration": 92,
                        "passed_time": 2.376523177,
                        "remaining_time": 2.734279354,
                        "test": [
                          0.304498302
                        ]
                      },
                      {
                        "learn": [
                          0.2895810836
                        ],
                        "iteration": 93,
                        "passed_time": 2.403375521,
                        "remaining_time": 2.710189417,
                        "test": [
                          0.3045133224
                        ]
                      },
                      {
                        "learn": [
                          0.2885757773
                        ],
                        "iteration": 94,
                        "passed_time": 2.442320701,
                        "remaining_time": 2.699407091,
                        "test": [
                          0.3038115247
                        ]
                      },
                      {
                        "learn": [
                          0.2873180137
                        ],
                        "iteration": 95,
                        "passed_time": 2.471361315,
                        "remaining_time": 2.677308091,
                        "test": [
                          0.3037568216
                        ]
                      },
                      {
                        "learn": [
                          0.2855358695
                        ],
                        "iteration": 96,
                        "passed_time": 2.497694732,
                        "remaining_time": 2.652191313,
                        "test": [
                          0.3031099933
                        ]
                      },
                      {
                        "learn": [
                          0.2845538685
                        ],
                        "iteration": 97,
                        "passed_time": 2.520208643,
                        "remaining_time": 2.623074302,
                        "test": [
                          0.3027089298
                        ]
                      },
                      {
                        "learn": [
                          0.2845078328
                        ],
                        "iteration": 98,
                        "passed_time": 2.546449977,
                        "remaining_time": 2.597893411,
                        "test": [
                          0.3027053905
                        ]
                      },
                      {
                        "learn": [
                          0.2837809109
                        ],
                        "iteration": 99,
                        "passed_time": 2.571765057,
                        "remaining_time": 2.571765057,
                        "test": [
                          0.3022478062
                        ]
                      },
                      {
                        "learn": [
                          0.2837036949
                        ],
                        "iteration": 100,
                        "passed_time": 2.597290137,
                        "remaining_time": 2.545858649,
                        "test": [
                          0.3022150593
                        ]
                      },
                      {
                        "learn": [
                          0.2828093234
                        ],
                        "iteration": 101,
                        "passed_time": 2.625324043,
                        "remaining_time": 2.522370159,
                        "test": [
                          0.3026994082
                        ]
                      },
                      {
                        "learn": [
                          0.2818110211
                        ],
                        "iteration": 102,
                        "passed_time": 2.654254572,
                        "remaining_time": 2.499637801,
                        "test": [
                          0.3028276208
                        ]
                      },
                      {
                        "learn": [
                          0.2810533682
                        ],
                        "iteration": 103,
                        "passed_time": 2.68147072,
                        "remaining_time": 2.475203741,
                        "test": [
                          0.3031883348
                        ]
                      },
                      {
                        "learn": [
                          0.2810184825
                        ],
                        "iteration": 104,
                        "passed_time": 2.702565169,
                        "remaining_time": 2.44517801,
                        "test": [
                          0.3031886581
                        ]
                      },
                      {
                        "learn": [
                          0.2798387988
                        ],
                        "iteration": 105,
                        "passed_time": 2.726173455,
                        "remaining_time": 2.417550045,
                        "test": [
                          0.3036689934
                        ]
                      },
                      {
                        "learn": [
                          0.2791069361
                        ],
                        "iteration": 106,
                        "passed_time": 2.753430207,
                        "remaining_time": 2.39316831,
                        "test": [
                          0.303854143
                        ]
                      },
                      {
                        "learn": [
                          0.2779008323
                        ],
                        "iteration": 107,
                        "passed_time": 2.779867769,
                        "remaining_time": 2.368035507,
                        "test": [
                          0.3039712794
                        ]
                      },
                      {
                        "learn": [
                          0.2774000415
                        ],
                        "iteration": 108,
                        "passed_time": 2.805084247,
                        "remaining_time": 2.341859326,
                        "test": [
                          0.3041874237
                        ]
                      },
                      {
                        "learn": [
                          0.2769721576
                        ],
                        "iteration": 109,
                        "passed_time": 2.830810784,
                        "remaining_time": 2.316117914,
                        "test": [
                          0.3042722816
                        ]
                      },
                      {
                        "learn": [
                          0.2760376397
                        ],
                        "iteration": 110,
                        "passed_time": 2.860285519,
                        "remaining_time": 2.293382083,
                        "test": [
                          0.3041610669
                        ]
                      },
                      {
                        "learn": [
                          0.2750274699
                        ],
                        "iteration": 111,
                        "passed_time": 2.887119948,
                        "remaining_time": 2.268451388,
                        "test": [
                          0.3032761188
                        ]
                      },
                      {
                        "learn": [
                          0.2749960053
                        ],
                        "iteration": 112,
                        "passed_time": 2.911904963,
                        "remaining_time": 2.241909131,
                        "test": [
                          0.3032767417
                        ]
                      },
                      {
                        "learn": [
                          0.274202857
                        ],
                        "iteration": 113,
                        "passed_time": 2.94091277,
                        "remaining_time": 2.218583318,
                        "test": [
                          0.3036436863
                        ]
                      },
                      {
                        "learn": [
                          0.2738579414
                        ],
                        "iteration": 114,
                        "passed_time": 2.969209112,
                        "remaining_time": 2.194632822,
                        "test": [
                          0.3038888433
                        ]
                      },
                      {
                        "learn": [
                          0.2735792396
                        ],
                        "iteration": 115,
                        "passed_time": 2.991094573,
                        "remaining_time": 2.165965036,
                        "test": [
                          0.3038794867
                        ]
                      },
                      {
                        "learn": [
                          0.2734005067
                        ],
                        "iteration": 116,
                        "passed_time": 3.016525967,
                        "remaining_time": 2.139928677,
                        "test": [
                          0.3036255465
                        ]
                      },
                      {
                        "learn": [
                          0.2727715773
                        ],
                        "iteration": 117,
                        "passed_time": 3.042334207,
                        "remaining_time": 2.114164449,
                        "test": [
                          0.3032332463
                        ]
                      },
                      {
                        "learn": [
                          0.2720094126
                        ],
                        "iteration": 118,
                        "passed_time": 3.066768896,
                        "remaining_time": 2.087464543,
                        "test": [
                          0.3039647043
                        ]
                      },
                      {
                        "learn": [
                          0.2719574461
                        ],
                        "iteration": 119,
                        "passed_time": 3.085913564,
                        "remaining_time": 2.057275709,
                        "test": [
                          0.3039638662
                        ]
                      },
                      {
                        "learn": [
                          0.271520698
                        ],
                        "iteration": 120,
                        "passed_time": 3.11293794,
                        "remaining_time": 2.032414027,
                        "test": [
                          0.3040528186
                        ]
                      },
                      {
                        "learn": [
                          0.2708054953
                        ],
                        "iteration": 121,
                        "passed_time": 3.140293428,
                        "remaining_time": 2.007728585,
                        "test": [
                          0.3045316637
                        ]
                      },
                      {
                        "learn": [
                          0.2696184517
                        ],
                        "iteration": 122,
                        "passed_time": 3.164865898,
                        "remaining_time": 1.981257514,
                        "test": [
                          0.3038797069
                        ]
                      },
                      {
                        "learn": [
                          0.2683462145
                        ],
                        "iteration": 123,
                        "passed_time": 3.190816209,
                        "remaining_time": 1.955661548,
                        "test": [
                          0.3032295627
                        ]
                      },
                      {
                        "learn": [
                          0.2681136638
                        ],
                        "iteration": 124,
                        "passed_time": 3.218532887,
                        "remaining_time": 1.931119732,
                        "test": [
                          0.3030516975
                        ]
                      },
                      {
                        "learn": [
                          0.2676883695
                        ],
                        "iteration": 125,
                        "passed_time": 3.243003748,
                        "remaining_time": 1.904621249,
                        "test": [
                          0.3032540288
                        ]
                      },
                      {
                        "learn": [
                          0.2676333157
                        ],
                        "iteration": 126,
                        "passed_time": 3.264327715,
                        "remaining_time": 1.876345852,
                        "test": [
                          0.3032573544
                        ]
                      },
                      {
                        "learn": [
                          0.2671291926
                        ],
                        "iteration": 127,
                        "passed_time": 3.288593682,
                        "remaining_time": 1.849833946,
                        "test": [
                          0.3032102045
                        ]
                      },
                      {
                        "learn": [
                          0.2667825057
                        ],
                        "iteration": 128,
                        "passed_time": 3.313933703,
                        "remaining_time": 1.823948007,
                        "test": [
                          0.3032356887
                        ]
                      },
                      {
                        "learn": [
                          0.2633970239
                        ],
                        "iteration": 129,
                        "passed_time": 3.339845574,
                        "remaining_time": 1.798378386,
                        "test": [
                          0.3010643849
                        ]
                      },
                      {
                        "learn": [
                          0.2618281704
                        ],
                        "iteration": 130,
                        "passed_time": 3.394252188,
                        "remaining_time": 1.787812221,
                        "test": [
                          0.300848486
                        ]
                      },
                      {
                        "learn": [
                          0.2616097952
                        ],
                        "iteration": 131,
                        "passed_time": 3.419756202,
                        "remaining_time": 1.761692589,
                        "test": [
                          0.3005197113
                        ]
                      },
                      {
                        "learn": [
                          0.2612280849
                        ],
                        "iteration": 132,
                        "passed_time": 3.45546197,
                        "remaining_time": 1.740721444,
                        "test": [
                          0.3002375634
                        ]
                      },
                      {
                        "learn": [
                          0.2595896553
                        ],
                        "iteration": 133,
                        "passed_time": 3.486694272,
                        "remaining_time": 1.71732703,
                        "test": [
                          0.3003446357
                        ]
                      },
                      {
                        "learn": [
                          0.2591351832
                        ],
                        "iteration": 134,
                        "passed_time": 3.511531633,
                        "remaining_time": 1.690737453,
                        "test": [
                          0.3003914736
                        ]
                      },
                      {
                        "learn": [
                          0.2581273572
                        ],
                        "iteration": 135,
                        "passed_time": 3.539439709,
                        "remaining_time": 1.665618687,
                        "test": [
                          0.3006329522
                        ]
                      },
                      {
                        "learn": [
                          0.2578174636
                        ],
                        "iteration": 136,
                        "passed_time": 3.563962994,
                        "remaining_time": 1.638902691,
                        "test": [
                          0.3005334977
                        ]
                      },
                      {
                        "learn": [
                          0.2566597499
                        ],
                        "iteration": 137,
                        "passed_time": 3.591869595,
                        "remaining_time": 1.613738514,
                        "test": [
                          0.3003426835
                        ]
                      },
                      {
                        "learn": [
                          0.2562555535
                        ],
                        "iteration": 138,
                        "passed_time": 3.619348536,
                        "remaining_time": 1.588347199,
                        "test": [
                          0.3004684463
                        ]
                      },
                      {
                        "learn": [
                          0.255880375
                        ],
                        "iteration": 139,
                        "passed_time": 3.649442156,
                        "remaining_time": 1.564046638,
                        "test": [
                          0.3004723194
                        ]
                      },
                      {
                        "learn": [
                          0.2549102353
                        ],
                        "iteration": 140,
                        "passed_time": 3.675860112,
                        "remaining_time": 1.538125862,
                        "test": [
                          0.3005107479
                        ]
                      },
                      {
                        "learn": [
                          0.2541920773
                        ],
                        "iteration": 141,
                        "passed_time": 3.704146333,
                        "remaining_time": 1.512961178,
                        "test": [
                          0.3004037253
                        ]
                      },
                      {
                        "learn": [
                          0.2538556297
                        ],
                        "iteration": 142,
                        "passed_time": 3.72828456,
                        "remaining_time": 1.48609944,
                        "test": [
                          0.3004757687
                        ]
                      },
                      {
                        "learn": [
                          0.2530612825
                        ],
                        "iteration": 143,
                        "passed_time": 3.753615804,
                        "remaining_time": 1.459739479,
                        "test": [
                          0.3000806781
                        ]
                      },
                      {
                        "learn": [
                          0.2527743631
                        ],
                        "iteration": 144,
                        "passed_time": 3.78587158,
                        "remaining_time": 1.436020254,
                        "test": [
                          0.3002835844
                        ]
                      },
                      {
                        "learn": [
                          0.2519461023
                        ],
                        "iteration": 145,
                        "passed_time": 3.812134523,
                        "remaining_time": 1.409967563,
                        "test": [
                          0.3003043229
                        ]
                      },
                      {
                        "learn": [
                          0.2513818701
                        ],
                        "iteration": 146,
                        "passed_time": 3.835808008,
                        "remaining_time": 1.382978397,
                        "test": [
                          0.3005331798
                        ]
                      },
                      {
                        "learn": [
                          0.2503587685
                        ],
                        "iteration": 147,
                        "passed_time": 3.863464092,
                        "remaining_time": 1.357433329,
                        "test": [
                          0.3014962756
                        ]
                      },
                      {
                        "learn": [
                          0.2497344931
                        ],
                        "iteration": 148,
                        "passed_time": 3.890311638,
                        "remaining_time": 1.331583178,
                        "test": [
                          0.3015665387
                        ]
                      },
                      {
                        "learn": [
                          0.2493095419
                        ],
                        "iteration": 149,
                        "passed_time": 3.917160526,
                        "remaining_time": 1.305720175,
                        "test": [
                          0.3012484173
                        ]
                      },
                      {
                        "learn": [
                          0.2488981897
                        ],
                        "iteration": 150,
                        "passed_time": 3.943865346,
                        "remaining_time": 1.279797364,
                        "test": [
                          0.3013672426
                        ]
                      },
                      {
                        "learn": [
                          0.2475253596
                        ],
                        "iteration": 151,
                        "passed_time": 3.969806521,
                        "remaining_time": 1.253623112,
                        "test": [
                          0.3003468482
                        ]
                      },
                      {
                        "learn": [
                          0.2469053717
                        ],
                        "iteration": 152,
                        "passed_time": 3.994110516,
                        "remaining_time": 1.226948982,
                        "test": [
                          0.3004115211
                        ]
                      },
                      {
                        "learn": [
                          0.2457441318
                        ],
                        "iteration": 153,
                        "passed_time": 4.020093309,
                        "remaining_time": 1.200807092,
                        "test": [
                          0.3005290818
                        ]
                      },
                      {
                        "learn": [
                          0.2455435628
                        ],
                        "iteration": 154,
                        "passed_time": 4.04855011,
                        "remaining_time": 1.175385516,
                        "test": [
                          0.3005065742
                        ]
                      },
                      {
                        "learn": [
                          0.2447180504
                        ],
                        "iteration": 155,
                        "passed_time": 4.07244933,
                        "remaining_time": 1.148639555,
                        "test": [
                          0.3003997519
                        ]
                      },
                      {
                        "learn": [
                          0.2438861298
                        ],
                        "iteration": 156,
                        "passed_time": 4.097367343,
                        "remaining_time": 1.12220889,
                        "test": [
                          0.2997953692
                        ]
                      },
                      {
                        "learn": [
                          0.2435554784
                        ],
                        "iteration": 157,
                        "passed_time": 4.123972657,
                        "remaining_time": 1.096245896,
                        "test": [
                          0.3001339396
                        ]
                      },
                      {
                        "learn": [
                          0.2429517249
                        ],
                        "iteration": 158,
                        "passed_time": 4.148571976,
                        "remaining_time": 1.069757554,
                        "test": [
                          0.2998168399
                        ]
                      },
                      {
                        "learn": [
                          0.2423902651
                        ],
                        "iteration": 159,
                        "passed_time": 4.174669854,
                        "remaining_time": 1.043667464,
                        "test": [
                          0.2997217691
                        ]
                      },
                      {
                        "learn": [
                          0.2423570753
                        ],
                        "iteration": 160,
                        "passed_time": 4.200328161,
                        "remaining_time": 1.017470797,
                        "test": [
                          0.2997261055
                        ]
                      },
                      {
                        "learn": [
                          0.2420087525
                        ],
                        "iteration": 161,
                        "passed_time": 4.222925998,
                        "remaining_time": 0.9905628884,
                        "test": [
                          0.2996531778
                        ]
                      },
                      {
                        "learn": [
                          0.2412782244
                        ],
                        "iteration": 162,
                        "passed_time": 4.24972239,
                        "remaining_time": 0.9646609105,
                        "test": [
                          0.3001190689
                        ]
                      },
                      {
                        "learn": [
                          0.2412464248
                        ],
                        "iteration": 163,
                        "passed_time": 4.273957123,
                        "remaining_time": 0.93818571,
                        "test": [
                          0.3001241641
                        ]
                      },
                      {
                        "learn": [
                          0.2403840007
                        ],
                        "iteration": 164,
                        "passed_time": 4.298139414,
                        "remaining_time": 0.9117265423,
                        "test": [
                          0.299718691
                        ]
                      },
                      {
                        "learn": [
                          0.2400232752
                        ],
                        "iteration": 165,
                        "passed_time": 4.323119067,
                        "remaining_time": 0.8854581222,
                        "test": [
                          0.2998707456
                        ]
                      },
                      {
                        "learn": [
                          0.2393668248
                        ],
                        "iteration": 166,
                        "passed_time": 4.349485592,
                        "remaining_time": 0.8594791888,
                        "test": [
                          0.2993458646
                        ]
                      },
                      {
                        "learn": [
                          0.2385703689
                        ],
                        "iteration": 167,
                        "passed_time": 4.412458105,
                        "remaining_time": 0.8404682105,
                        "test": [
                          0.2992604826
                        ]
                      },
                      {
                        "learn": [
                          0.237630571
                        ],
                        "iteration": 168,
                        "passed_time": 4.43783418,
                        "remaining_time": 0.8140405892,
                        "test": [
                          0.2995899632
                        ]
                      },
                      {
                        "learn": [
                          0.2376060713
                        ],
                        "iteration": 169,
                        "passed_time": 4.465156214,
                        "remaining_time": 0.7879687436,
                        "test": [
                          0.2995962251
                        ]
                      },
                      {
                        "learn": [
                          0.2372230365
                        ],
                        "iteration": 170,
                        "passed_time": 4.499439361,
                        "remaining_time": 0.7630628156,
                        "test": [
                          0.2995152761
                        ]
                      },
                      {
                        "learn": [
                          0.2367059654
                        ],
                        "iteration": 171,
                        "passed_time": 4.526388041,
                        "remaining_time": 0.7368538672,
                        "test": [
                          0.2997361211
                        ]
                      },
                      {
                        "learn": [
                          0.236353658
                        ],
                        "iteration": 172,
                        "passed_time": 4.552261065,
                        "remaining_time": 0.7104684899,
                        "test": [
                          0.2998013021
                        ]
                      },
                      {
                        "learn": [
                          0.2361686121
                        ],
                        "iteration": 173,
                        "passed_time": 4.578042187,
                        "remaining_time": 0.6840752694,
                        "test": [
                          0.2999305574
                        ]
                      },
                      {
                        "learn": [
                          0.2356288071
                        ],
                        "iteration": 174,
                        "passed_time": 4.603487343,
                        "remaining_time": 0.6576410489,
                        "test": [
                          0.2999114869
                        ]
                      },
                      {
                        "learn": [
                          0.2351669369
                        ],
                        "iteration": 175,
                        "passed_time": 4.629093461,
                        "remaining_time": 0.6312400174,
                        "test": [
                          0.300288265
                        ]
                      },
                      {
                        "learn": [
                          0.2348909715
                        ],
                        "iteration": 176,
                        "passed_time": 4.6595335,
                        "remaining_time": 0.6054761046,
                        "test": [
                          0.300458828
                        ]
                      },
                      {
                        "learn": [
                          0.2343173649
                        ],
                        "iteration": 177,
                        "passed_time": 4.68566711,
                        "remaining_time": 0.5791273956,
                        "test": [
                          0.3010091385
                        ]
                      },
                      {
                        "learn": [
                          0.2329016913
                        ],
                        "iteration": 178,
                        "passed_time": 4.711562417,
                        "remaining_time": 0.5527531327,
                        "test": [
                          0.3011929546
                        ]
                      },
                      {
                        "learn": [
                          0.232687523
                        ],
                        "iteration": 179,
                        "passed_time": 4.737372366,
                        "remaining_time": 0.5263747073,
                        "test": [
                          0.301083916
                        ]
                      },
                      {
                        "learn": [
                          0.2320989767
                        ],
                        "iteration": 180,
                        "passed_time": 4.763562204,
                        "remaining_time": 0.5000424413,
                        "test": [
                          0.301317183
                        ]
                      },
                      {
                        "learn": [
                          0.232028742
                        ],
                        "iteration": 181,
                        "passed_time": 4.79152156,
                        "remaining_time": 0.4738867477,
                        "test": [
                          0.3012390893
                        ]
                      },
                      {
                        "learn": [
                          0.2317987776
                        ],
                        "iteration": 182,
                        "passed_time": 4.818136742,
                        "remaining_time": 0.4475864733,
                        "test": [
                          0.30106752
                        ]
                      },
                      {
                        "learn": [
                          0.2310559765
                        ],
                        "iteration": 183,
                        "passed_time": 4.842129362,
                        "remaining_time": 0.4210547272,
                        "test": [
                          0.3005622505
                        ]
                      },
                      {
                        "learn": [
                          0.230875612
                        ],
                        "iteration": 184,
                        "passed_time": 4.866922664,
                        "remaining_time": 0.3946153511,
                        "test": [
                          0.3005153251
                        ]
                      },
                      {
                        "learn": [
                          0.2300877674
                        ],
                        "iteration": 185,
                        "passed_time": 4.892415185,
                        "remaining_time": 0.3682463042,
                        "test": [
                          0.3009209561
                        ]
                      },
                      {
                        "learn": [
                          0.2297714131
                        ],
                        "iteration": 186,
                        "passed_time": 4.920389546,
                        "remaining_time": 0.3420591663,
                        "test": [
                          0.3011320183
                        ]
                      },
                      {
                        "learn": [
                          0.2292589898
                        ],
                        "iteration": 187,
                        "passed_time": 4.946637123,
                        "remaining_time": 0.3157427951,
                        "test": [
                          0.3011758922
                        ]
                      },
                      {
                        "learn": [
                          0.2288586218
                        ],
                        "iteration": 188,
                        "passed_time": 4.97230309,
                        "remaining_time": 0.2893933015,
                        "test": [
                          0.3016841881
                        ]
                      },
                      {
                        "learn": [
                          0.2279849625
                        ],
                        "iteration": 189,
                        "passed_time": 5.000952293,
                        "remaining_time": 0.2632080154,
                        "test": [
                          0.3012758547
                        ]
                      },
                      {
                        "learn": [
                          0.2276604352
                        ],
                        "iteration": 190,
                        "passed_time": 5.027419818,
                        "remaining_time": 0.2368941275,
                        "test": [
                          0.3010602928
                        ]
                      },
                      {
                        "learn": [
                          0.2273032163
                        ],
                        "iteration": 191,
                        "passed_time": 5.048476262,
                        "remaining_time": 0.2103531776,
                        "test": [
                          0.3010624084
                        ]
                      },
                      {
                        "learn": [
                          0.2270870021
                        ],
                        "iteration": 192,
                        "passed_time": 5.073563255,
                        "remaining_time": 0.1840152476,
                        "test": [
                          0.3012004671
                        ]
                      },
                      {
                        "learn": [
                          0.2269660842
                        ],
                        "iteration": 193,
                        "passed_time": 5.101186352,
                        "remaining_time": 0.1577686501,
                        "test": [
                          0.3013156504
                        ]
                      },
                      {
                        "learn": [
                          0.2263284546
                        ],
                        "iteration": 194,
                        "passed_time": 5.127325161,
                        "remaining_time": 0.1314698759,
                        "test": [
                          0.3010386076
                        ]
                      },
                      {
                        "learn": [
                          0.2257501469
                        ],
                        "iteration": 195,
                        "passed_time": 5.149734033,
                        "remaining_time": 0.1050966129,
                        "test": [
                          0.3014080568
                        ]
                      },
                      {
                        "learn": [
                          0.2252778463
                        ],
                        "iteration": 196,
                        "passed_time": 5.175512646,
                        "remaining_time": 0.0788149134,
                        "test": [
                          0.3015268588
                        ]
                      },
                      {
                        "learn": [
                          0.2248746613
                        ],
                        "iteration": 197,
                        "passed_time": 5.202393715,
                        "remaining_time": 0.05254943147,
                        "test": [
                          0.3013740346
                        ]
                      },
                      {
                        "learn": [
                          0.2247252878
                        ],
                        "iteration": 198,
                        "passed_time": 5.228584902,
                        "remaining_time": 0.02627429599,
                        "test": [
                          0.3014858228
                        ]
                      },
                      {
                        "learn": [
                          0.2244081388
                        ],
                        "iteration": 199,
                        "passed_time": 5.255200254,
                        "remaining_time": 0,
                        "test": [
                          0.3012239492
                        ]
                      }
                    ],
                    "meta": {
                      "test_sets": [
                        "test"
                      ],
                      "test_metrics": [
                        {
                          "best_value": "Min",
                          "name": "Logloss"
                        }
                      ],
                      "learn_metrics": [
                        {
                          "best_value": "Min",
                          "name": "Logloss"
                        }
                      ],
                      "launch_mode": "Train",
                      "parameters": "",
                      "iteration_count": 200,
                      "learn_sets": [
                        "learn"
                      ],
                      "name": "experiment"
                    }
                  }
                }
              }
            },
            "layout": "IPY_MODEL_ac329d4886f9428f9a256752a43106a9"
          }
        }
      }
    }
  },
  "nbformat": 4,
  "nbformat_minor": 0
}